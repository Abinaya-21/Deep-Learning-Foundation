{
  "nbformat": 4,
  "nbformat_minor": 0,
  "metadata": {
    "colab": {
      "name": "Vectorized_FFNetwork.ipynb",
      "provenance": [],
      "collapsed_sections": []
    },
    "kernelspec": {
      "name": "python3",
      "display_name": "Python 3"
    },
    "widgets": {
      "application/vnd.jupyter.widget-state+json": {
        "4f3b4906e1bf48ca84b78aec73a6fe52": {
          "model_module": "@jupyter-widgets/controls",
          "model_name": "HBoxModel",
          "state": {
            "_view_name": "HBoxView",
            "_dom_classes": [],
            "_model_name": "HBoxModel",
            "_view_module": "@jupyter-widgets/controls",
            "_model_module_version": "1.5.0",
            "_view_count": null,
            "_view_module_version": "1.5.0",
            "box_style": "",
            "layout": "IPY_MODEL_e82990449885495da566b62284d9c722",
            "_model_module": "@jupyter-widgets/controls",
            "children": [
              "IPY_MODEL_1a3e7c42310945279310dfb8a019571a",
              "IPY_MODEL_8f0e8da00fde48cb8bd431d1dd137808"
            ]
          }
        },
        "e82990449885495da566b62284d9c722": {
          "model_module": "@jupyter-widgets/base",
          "model_name": "LayoutModel",
          "state": {
            "_view_name": "LayoutView",
            "grid_template_rows": null,
            "right": null,
            "justify_content": null,
            "_view_module": "@jupyter-widgets/base",
            "overflow": null,
            "_model_module_version": "1.2.0",
            "_view_count": null,
            "flex_flow": null,
            "width": null,
            "min_width": null,
            "border": null,
            "align_items": null,
            "bottom": null,
            "_model_module": "@jupyter-widgets/base",
            "top": null,
            "grid_column": null,
            "overflow_y": null,
            "overflow_x": null,
            "grid_auto_flow": null,
            "grid_area": null,
            "grid_template_columns": null,
            "flex": null,
            "_model_name": "LayoutModel",
            "justify_items": null,
            "grid_row": null,
            "max_height": null,
            "align_content": null,
            "visibility": null,
            "align_self": null,
            "height": null,
            "min_height": null,
            "padding": null,
            "grid_auto_rows": null,
            "grid_gap": null,
            "max_width": null,
            "order": null,
            "_view_module_version": "1.2.0",
            "grid_template_areas": null,
            "object_position": null,
            "object_fit": null,
            "grid_auto_columns": null,
            "margin": null,
            "display": null,
            "left": null
          }
        },
        "1a3e7c42310945279310dfb8a019571a": {
          "model_module": "@jupyter-widgets/controls",
          "model_name": "FloatProgressModel",
          "state": {
            "_view_name": "ProgressView",
            "style": "IPY_MODEL_feb9c0362b134459a6dad8cf17cfe16e",
            "_dom_classes": [],
            "description": "100%",
            "_model_name": "FloatProgressModel",
            "bar_style": "success",
            "max": 2000,
            "_view_module": "@jupyter-widgets/controls",
            "_model_module_version": "1.5.0",
            "value": 2000,
            "_view_count": null,
            "_view_module_version": "1.5.0",
            "orientation": "horizontal",
            "min": 0,
            "description_tooltip": null,
            "_model_module": "@jupyter-widgets/controls",
            "layout": "IPY_MODEL_b2da70ec06c140d188a75c35c2b43310"
          }
        },
        "8f0e8da00fde48cb8bd431d1dd137808": {
          "model_module": "@jupyter-widgets/controls",
          "model_name": "HTMLModel",
          "state": {
            "_view_name": "HTMLView",
            "style": "IPY_MODEL_c2fbd0dd07ac4275a8505558d6cee8bd",
            "_dom_classes": [],
            "description": "",
            "_model_name": "HTMLModel",
            "placeholder": "​",
            "_view_module": "@jupyter-widgets/controls",
            "_model_module_version": "1.5.0",
            "value": " 2000/2000 [05:33&lt;00:00,  6.01epoch/s]",
            "_view_count": null,
            "_view_module_version": "1.5.0",
            "description_tooltip": null,
            "_model_module": "@jupyter-widgets/controls",
            "layout": "IPY_MODEL_8bdd5d26a0384a99bdf0c64c842c0194"
          }
        },
        "feb9c0362b134459a6dad8cf17cfe16e": {
          "model_module": "@jupyter-widgets/controls",
          "model_name": "ProgressStyleModel",
          "state": {
            "_view_name": "StyleView",
            "_model_name": "ProgressStyleModel",
            "description_width": "initial",
            "_view_module": "@jupyter-widgets/base",
            "_model_module_version": "1.5.0",
            "_view_count": null,
            "_view_module_version": "1.2.0",
            "bar_color": null,
            "_model_module": "@jupyter-widgets/controls"
          }
        },
        "b2da70ec06c140d188a75c35c2b43310": {
          "model_module": "@jupyter-widgets/base",
          "model_name": "LayoutModel",
          "state": {
            "_view_name": "LayoutView",
            "grid_template_rows": null,
            "right": null,
            "justify_content": null,
            "_view_module": "@jupyter-widgets/base",
            "overflow": null,
            "_model_module_version": "1.2.0",
            "_view_count": null,
            "flex_flow": null,
            "width": null,
            "min_width": null,
            "border": null,
            "align_items": null,
            "bottom": null,
            "_model_module": "@jupyter-widgets/base",
            "top": null,
            "grid_column": null,
            "overflow_y": null,
            "overflow_x": null,
            "grid_auto_flow": null,
            "grid_area": null,
            "grid_template_columns": null,
            "flex": null,
            "_model_name": "LayoutModel",
            "justify_items": null,
            "grid_row": null,
            "max_height": null,
            "align_content": null,
            "visibility": null,
            "align_self": null,
            "height": null,
            "min_height": null,
            "padding": null,
            "grid_auto_rows": null,
            "grid_gap": null,
            "max_width": null,
            "order": null,
            "_view_module_version": "1.2.0",
            "grid_template_areas": null,
            "object_position": null,
            "object_fit": null,
            "grid_auto_columns": null,
            "margin": null,
            "display": null,
            "left": null
          }
        },
        "c2fbd0dd07ac4275a8505558d6cee8bd": {
          "model_module": "@jupyter-widgets/controls",
          "model_name": "DescriptionStyleModel",
          "state": {
            "_view_name": "StyleView",
            "_model_name": "DescriptionStyleModel",
            "description_width": "",
            "_view_module": "@jupyter-widgets/base",
            "_model_module_version": "1.5.0",
            "_view_count": null,
            "_view_module_version": "1.2.0",
            "_model_module": "@jupyter-widgets/controls"
          }
        },
        "8bdd5d26a0384a99bdf0c64c842c0194": {
          "model_module": "@jupyter-widgets/base",
          "model_name": "LayoutModel",
          "state": {
            "_view_name": "LayoutView",
            "grid_template_rows": null,
            "right": null,
            "justify_content": null,
            "_view_module": "@jupyter-widgets/base",
            "overflow": null,
            "_model_module_version": "1.2.0",
            "_view_count": null,
            "flex_flow": null,
            "width": null,
            "min_width": null,
            "border": null,
            "align_items": null,
            "bottom": null,
            "_model_module": "@jupyter-widgets/base",
            "top": null,
            "grid_column": null,
            "overflow_y": null,
            "overflow_x": null,
            "grid_auto_flow": null,
            "grid_area": null,
            "grid_template_columns": null,
            "flex": null,
            "_model_name": "LayoutModel",
            "justify_items": null,
            "grid_row": null,
            "max_height": null,
            "align_content": null,
            "visibility": null,
            "align_self": null,
            "height": null,
            "min_height": null,
            "padding": null,
            "grid_auto_rows": null,
            "grid_gap": null,
            "max_width": null,
            "order": null,
            "_view_module_version": "1.2.0",
            "grid_template_areas": null,
            "object_position": null,
            "object_fit": null,
            "grid_auto_columns": null,
            "margin": null,
            "display": null,
            "left": null
          }
        },
        "092d7b9ad7b54964ba2546e70d996c83": {
          "model_module": "@jupyter-widgets/controls",
          "model_name": "HBoxModel",
          "state": {
            "_view_name": "HBoxView",
            "_dom_classes": [],
            "_model_name": "HBoxModel",
            "_view_module": "@jupyter-widgets/controls",
            "_model_module_version": "1.5.0",
            "_view_count": null,
            "_view_module_version": "1.5.0",
            "box_style": "",
            "layout": "IPY_MODEL_335eab873ea74228ac10ad257148213b",
            "_model_module": "@jupyter-widgets/controls",
            "children": [
              "IPY_MODEL_4b95e5ed4f4e4f9d9d6405d3c8dabd93",
              "IPY_MODEL_24623592290943d2989523a93a633d2f"
            ]
          }
        },
        "335eab873ea74228ac10ad257148213b": {
          "model_module": "@jupyter-widgets/base",
          "model_name": "LayoutModel",
          "state": {
            "_view_name": "LayoutView",
            "grid_template_rows": null,
            "right": null,
            "justify_content": null,
            "_view_module": "@jupyter-widgets/base",
            "overflow": null,
            "_model_module_version": "1.2.0",
            "_view_count": null,
            "flex_flow": null,
            "width": null,
            "min_width": null,
            "border": null,
            "align_items": null,
            "bottom": null,
            "_model_module": "@jupyter-widgets/base",
            "top": null,
            "grid_column": null,
            "overflow_y": null,
            "overflow_x": null,
            "grid_auto_flow": null,
            "grid_area": null,
            "grid_template_columns": null,
            "flex": null,
            "_model_name": "LayoutModel",
            "justify_items": null,
            "grid_row": null,
            "max_height": null,
            "align_content": null,
            "visibility": null,
            "align_self": null,
            "height": null,
            "min_height": null,
            "padding": null,
            "grid_auto_rows": null,
            "grid_gap": null,
            "max_width": null,
            "order": null,
            "_view_module_version": "1.2.0",
            "grid_template_areas": null,
            "object_position": null,
            "object_fit": null,
            "grid_auto_columns": null,
            "margin": null,
            "display": null,
            "left": null
          }
        },
        "4b95e5ed4f4e4f9d9d6405d3c8dabd93": {
          "model_module": "@jupyter-widgets/controls",
          "model_name": "FloatProgressModel",
          "state": {
            "_view_name": "ProgressView",
            "style": "IPY_MODEL_c892bfb3b5a842f293c3732300c712c9",
            "_dom_classes": [],
            "description": "100%",
            "_model_name": "FloatProgressModel",
            "bar_style": "success",
            "max": 2000,
            "_view_module": "@jupyter-widgets/controls",
            "_model_module_version": "1.5.0",
            "value": 2000,
            "_view_count": null,
            "_view_module_version": "1.5.0",
            "orientation": "horizontal",
            "min": 0,
            "description_tooltip": null,
            "_model_module": "@jupyter-widgets/controls",
            "layout": "IPY_MODEL_92891137bab044d797a9064b89eec302"
          }
        },
        "24623592290943d2989523a93a633d2f": {
          "model_module": "@jupyter-widgets/controls",
          "model_name": "HTMLModel",
          "state": {
            "_view_name": "HTMLView",
            "style": "IPY_MODEL_c6f6ad81e71e43c6bc60e48b927486be",
            "_dom_classes": [],
            "description": "",
            "_model_name": "HTMLModel",
            "placeholder": "​",
            "_view_module": "@jupyter-widgets/controls",
            "_model_module_version": "1.5.0",
            "value": " 2000/2000 [03:25&lt;00:00,  9.75epoch/s]",
            "_view_count": null,
            "_view_module_version": "1.5.0",
            "description_tooltip": null,
            "_model_module": "@jupyter-widgets/controls",
            "layout": "IPY_MODEL_db76ded0910c4c7d8de6280fabee1766"
          }
        },
        "c892bfb3b5a842f293c3732300c712c9": {
          "model_module": "@jupyter-widgets/controls",
          "model_name": "ProgressStyleModel",
          "state": {
            "_view_name": "StyleView",
            "_model_name": "ProgressStyleModel",
            "description_width": "initial",
            "_view_module": "@jupyter-widgets/base",
            "_model_module_version": "1.5.0",
            "_view_count": null,
            "_view_module_version": "1.2.0",
            "bar_color": null,
            "_model_module": "@jupyter-widgets/controls"
          }
        },
        "92891137bab044d797a9064b89eec302": {
          "model_module": "@jupyter-widgets/base",
          "model_name": "LayoutModel",
          "state": {
            "_view_name": "LayoutView",
            "grid_template_rows": null,
            "right": null,
            "justify_content": null,
            "_view_module": "@jupyter-widgets/base",
            "overflow": null,
            "_model_module_version": "1.2.0",
            "_view_count": null,
            "flex_flow": null,
            "width": null,
            "min_width": null,
            "border": null,
            "align_items": null,
            "bottom": null,
            "_model_module": "@jupyter-widgets/base",
            "top": null,
            "grid_column": null,
            "overflow_y": null,
            "overflow_x": null,
            "grid_auto_flow": null,
            "grid_area": null,
            "grid_template_columns": null,
            "flex": null,
            "_model_name": "LayoutModel",
            "justify_items": null,
            "grid_row": null,
            "max_height": null,
            "align_content": null,
            "visibility": null,
            "align_self": null,
            "height": null,
            "min_height": null,
            "padding": null,
            "grid_auto_rows": null,
            "grid_gap": null,
            "max_width": null,
            "order": null,
            "_view_module_version": "1.2.0",
            "grid_template_areas": null,
            "object_position": null,
            "object_fit": null,
            "grid_auto_columns": null,
            "margin": null,
            "display": null,
            "left": null
          }
        },
        "c6f6ad81e71e43c6bc60e48b927486be": {
          "model_module": "@jupyter-widgets/controls",
          "model_name": "DescriptionStyleModel",
          "state": {
            "_view_name": "StyleView",
            "_model_name": "DescriptionStyleModel",
            "description_width": "",
            "_view_module": "@jupyter-widgets/base",
            "_model_module_version": "1.5.0",
            "_view_count": null,
            "_view_module_version": "1.2.0",
            "_model_module": "@jupyter-widgets/controls"
          }
        },
        "db76ded0910c4c7d8de6280fabee1766": {
          "model_module": "@jupyter-widgets/base",
          "model_name": "LayoutModel",
          "state": {
            "_view_name": "LayoutView",
            "grid_template_rows": null,
            "right": null,
            "justify_content": null,
            "_view_module": "@jupyter-widgets/base",
            "overflow": null,
            "_model_module_version": "1.2.0",
            "_view_count": null,
            "flex_flow": null,
            "width": null,
            "min_width": null,
            "border": null,
            "align_items": null,
            "bottom": null,
            "_model_module": "@jupyter-widgets/base",
            "top": null,
            "grid_column": null,
            "overflow_y": null,
            "overflow_x": null,
            "grid_auto_flow": null,
            "grid_area": null,
            "grid_template_columns": null,
            "flex": null,
            "_model_name": "LayoutModel",
            "justify_items": null,
            "grid_row": null,
            "max_height": null,
            "align_content": null,
            "visibility": null,
            "align_self": null,
            "height": null,
            "min_height": null,
            "padding": null,
            "grid_auto_rows": null,
            "grid_gap": null,
            "max_width": null,
            "order": null,
            "_view_module_version": "1.2.0",
            "grid_template_areas": null,
            "object_position": null,
            "object_fit": null,
            "grid_auto_columns": null,
            "margin": null,
            "display": null,
            "left": null
          }
        },
        "3d2c4dee09f54c149974745eb68a85a5": {
          "model_module": "@jupyter-widgets/controls",
          "model_name": "HBoxModel",
          "state": {
            "_view_name": "HBoxView",
            "_dom_classes": [],
            "_model_name": "HBoxModel",
            "_view_module": "@jupyter-widgets/controls",
            "_model_module_version": "1.5.0",
            "_view_count": null,
            "_view_module_version": "1.5.0",
            "box_style": "",
            "layout": "IPY_MODEL_e3481571d85d4167a5fe6b3435005961",
            "_model_module": "@jupyter-widgets/controls",
            "children": [
              "IPY_MODEL_9e4a8d6f16e046038f98afbf1a8bce49",
              "IPY_MODEL_74d9eadd2e00463a8cbde6030874d477"
            ]
          }
        },
        "e3481571d85d4167a5fe6b3435005961": {
          "model_module": "@jupyter-widgets/base",
          "model_name": "LayoutModel",
          "state": {
            "_view_name": "LayoutView",
            "grid_template_rows": null,
            "right": null,
            "justify_content": null,
            "_view_module": "@jupyter-widgets/base",
            "overflow": null,
            "_model_module_version": "1.2.0",
            "_view_count": null,
            "flex_flow": null,
            "width": null,
            "min_width": null,
            "border": null,
            "align_items": null,
            "bottom": null,
            "_model_module": "@jupyter-widgets/base",
            "top": null,
            "grid_column": null,
            "overflow_y": null,
            "overflow_x": null,
            "grid_auto_flow": null,
            "grid_area": null,
            "grid_template_columns": null,
            "flex": null,
            "_model_name": "LayoutModel",
            "justify_items": null,
            "grid_row": null,
            "max_height": null,
            "align_content": null,
            "visibility": null,
            "align_self": null,
            "height": null,
            "min_height": null,
            "padding": null,
            "grid_auto_rows": null,
            "grid_gap": null,
            "max_width": null,
            "order": null,
            "_view_module_version": "1.2.0",
            "grid_template_areas": null,
            "object_position": null,
            "object_fit": null,
            "grid_auto_columns": null,
            "margin": null,
            "display": null,
            "left": null
          }
        },
        "9e4a8d6f16e046038f98afbf1a8bce49": {
          "model_module": "@jupyter-widgets/controls",
          "model_name": "FloatProgressModel",
          "state": {
            "_view_name": "ProgressView",
            "style": "IPY_MODEL_00e74cf01ffe4f20a78d4bd6161c8345",
            "_dom_classes": [],
            "description": "100%",
            "_model_name": "FloatProgressModel",
            "bar_style": "success",
            "max": 2000,
            "_view_module": "@jupyter-widgets/controls",
            "_model_module_version": "1.5.0",
            "value": 2000,
            "_view_count": null,
            "_view_module_version": "1.5.0",
            "orientation": "horizontal",
            "min": 0,
            "description_tooltip": null,
            "_model_module": "@jupyter-widgets/controls",
            "layout": "IPY_MODEL_8f8f8f2a02a54636ac38838496f7c13b"
          }
        },
        "74d9eadd2e00463a8cbde6030874d477": {
          "model_module": "@jupyter-widgets/controls",
          "model_name": "HTMLModel",
          "state": {
            "_view_name": "HTMLView",
            "style": "IPY_MODEL_f6f7d14169254b4dbea1305a0a83c479",
            "_dom_classes": [],
            "description": "",
            "_model_name": "HTMLModel",
            "placeholder": "​",
            "_view_module": "@jupyter-widgets/controls",
            "_model_module_version": "1.5.0",
            "value": " 2000/2000 [01:58&lt;00:00, 16.84epoch/s]",
            "_view_count": null,
            "_view_module_version": "1.5.0",
            "description_tooltip": null,
            "_model_module": "@jupyter-widgets/controls",
            "layout": "IPY_MODEL_b225b12d859d401eb428bfb4a964fff2"
          }
        },
        "00e74cf01ffe4f20a78d4bd6161c8345": {
          "model_module": "@jupyter-widgets/controls",
          "model_name": "ProgressStyleModel",
          "state": {
            "_view_name": "StyleView",
            "_model_name": "ProgressStyleModel",
            "description_width": "initial",
            "_view_module": "@jupyter-widgets/base",
            "_model_module_version": "1.5.0",
            "_view_count": null,
            "_view_module_version": "1.2.0",
            "bar_color": null,
            "_model_module": "@jupyter-widgets/controls"
          }
        },
        "8f8f8f2a02a54636ac38838496f7c13b": {
          "model_module": "@jupyter-widgets/base",
          "model_name": "LayoutModel",
          "state": {
            "_view_name": "LayoutView",
            "grid_template_rows": null,
            "right": null,
            "justify_content": null,
            "_view_module": "@jupyter-widgets/base",
            "overflow": null,
            "_model_module_version": "1.2.0",
            "_view_count": null,
            "flex_flow": null,
            "width": null,
            "min_width": null,
            "border": null,
            "align_items": null,
            "bottom": null,
            "_model_module": "@jupyter-widgets/base",
            "top": null,
            "grid_column": null,
            "overflow_y": null,
            "overflow_x": null,
            "grid_auto_flow": null,
            "grid_area": null,
            "grid_template_columns": null,
            "flex": null,
            "_model_name": "LayoutModel",
            "justify_items": null,
            "grid_row": null,
            "max_height": null,
            "align_content": null,
            "visibility": null,
            "align_self": null,
            "height": null,
            "min_height": null,
            "padding": null,
            "grid_auto_rows": null,
            "grid_gap": null,
            "max_width": null,
            "order": null,
            "_view_module_version": "1.2.0",
            "grid_template_areas": null,
            "object_position": null,
            "object_fit": null,
            "grid_auto_columns": null,
            "margin": null,
            "display": null,
            "left": null
          }
        },
        "f6f7d14169254b4dbea1305a0a83c479": {
          "model_module": "@jupyter-widgets/controls",
          "model_name": "DescriptionStyleModel",
          "state": {
            "_view_name": "StyleView",
            "_model_name": "DescriptionStyleModel",
            "description_width": "",
            "_view_module": "@jupyter-widgets/base",
            "_model_module_version": "1.5.0",
            "_view_count": null,
            "_view_module_version": "1.2.0",
            "_model_module": "@jupyter-widgets/controls"
          }
        },
        "b225b12d859d401eb428bfb4a964fff2": {
          "model_module": "@jupyter-widgets/base",
          "model_name": "LayoutModel",
          "state": {
            "_view_name": "LayoutView",
            "grid_template_rows": null,
            "right": null,
            "justify_content": null,
            "_view_module": "@jupyter-widgets/base",
            "overflow": null,
            "_model_module_version": "1.2.0",
            "_view_count": null,
            "flex_flow": null,
            "width": null,
            "min_width": null,
            "border": null,
            "align_items": null,
            "bottom": null,
            "_model_module": "@jupyter-widgets/base",
            "top": null,
            "grid_column": null,
            "overflow_y": null,
            "overflow_x": null,
            "grid_auto_flow": null,
            "grid_area": null,
            "grid_template_columns": null,
            "flex": null,
            "_model_name": "LayoutModel",
            "justify_items": null,
            "grid_row": null,
            "max_height": null,
            "align_content": null,
            "visibility": null,
            "align_self": null,
            "height": null,
            "min_height": null,
            "padding": null,
            "grid_auto_rows": null,
            "grid_gap": null,
            "max_width": null,
            "order": null,
            "_view_module_version": "1.2.0",
            "grid_template_areas": null,
            "object_position": null,
            "object_fit": null,
            "grid_auto_columns": null,
            "margin": null,
            "display": null,
            "left": null
          }
        }
      }
    }
  },
  "cells": [
    {
      "cell_type": "markdown",
      "metadata": {
        "id": "3jPeoxjrz7Kv"
      },
      "source": [
        "##import statements"
      ]
    },
    {
      "cell_type": "code",
      "metadata": {
        "id": "_Q4oLP6lapn_"
      },
      "source": [
        "import numpy as np\r\n",
        "import matplotlib.pyplot as plt\r\n",
        "import matplotlib.colors\r\n",
        "import pandas as pd\r\n",
        "from sklearn.model_selection import train_test_split\r\n",
        "from sklearn.metrics import accuracy_score, mean_squared_error, log_loss\r\n",
        "from tqdm import tqdm_notebook \r\n",
        "import seaborn as sns\r\n",
        "import imageio\r\n",
        "import time\r\n",
        "from IPython.display import HTML\r\n",
        "from sklearn.preprocessing import OneHotEncoder\r\n",
        "from sklearn.datasets import make_blobs\r\n",
        "from scipy.special import expit"
      ],
      "execution_count": null,
      "outputs": []
    },
    {
      "cell_type": "code",
      "metadata": {
        "id": "bGRgnRQBa10E"
      },
      "source": [
        "my_cmap = matplotlib.colors.LinearSegmentedColormap.from_list(\"\",[\"lime\",\"mediumspringgreen\",\"deeppink\",\"gold\"])"
      ],
      "execution_count": null,
      "outputs": []
    },
    {
      "cell_type": "code",
      "metadata": {
        "id": "JWKT0ve5bx4h"
      },
      "source": [
        "np.random.seed(0)"
      ],
      "execution_count": null,
      "outputs": []
    },
    {
      "cell_type": "markdown",
      "metadata": {
        "id": "36Z0Zli_0DAf"
      },
      "source": [
        "## time variation - scalar vs vector forms"
      ]
    },
    {
      "cell_type": "code",
      "metadata": {
        "colab": {
          "base_uri": "https://localhost:8080/"
        },
        "id": "P4G74kAscw6m",
        "outputId": "467a694a-4236-4de2-8416-843272016aa2"
      },
      "source": [
        "P = 1000\r\n",
        "Q = 2000\r\n",
        "a = np.random.randn(P,Q)\r\n",
        "b = np.random.randn(P, Q)\r\n",
        "c = np.zeros((P,Q))\r\n",
        "print(a.shape,b.shape,c.shape)"
      ],
      "execution_count": null,
      "outputs": [
        {
          "output_type": "stream",
          "text": [
            "(1000, 2000) (1000, 2000) (1000, 2000)\n"
          ],
          "name": "stdout"
        }
      ]
    },
    {
      "cell_type": "code",
      "metadata": {
        "id": "Po_RCkGrn3UQ",
        "colab": {
          "base_uri": "https://localhost:8080/"
        },
        "outputId": "d6d017a8-0b1e-474e-d09f-1c72aa29abc7"
      },
      "source": [
        "%%time\r\n",
        "for i in range(P):\r\n",
        "  for j in range(Q):\r\n",
        "    c[i,j] = a[i,j] + b[i,j]"
      ],
      "execution_count": null,
      "outputs": [
        {
          "output_type": "stream",
          "text": [
            "CPU times: user 1.51 s, sys: 1.64 ms, total: 1.51 s\n",
            "Wall time: 1.52 s\n"
          ],
          "name": "stdout"
        }
      ]
    },
    {
      "cell_type": "code",
      "metadata": {
        "id": "0Hj_5mHKn4xn",
        "colab": {
          "base_uri": "https://localhost:8080/"
        },
        "outputId": "c7a8f763-0665-402c-e23a-749b1ed6ecfb"
      },
      "source": [
        "%%time\r\n",
        "c =a + b"
      ],
      "execution_count": null,
      "outputs": [
        {
          "output_type": "stream",
          "text": [
            "CPU times: user 4.93 ms, sys: 10 ms, total: 15 ms\n",
            "Wall time: 15.5 ms\n"
          ],
          "name": "stdout"
        }
      ]
    },
    {
      "cell_type": "code",
      "metadata": {
        "id": "FHLpPiCHn7lE",
        "colab": {
          "base_uri": "https://localhost:8080/"
        },
        "outputId": "76b6424c-8c7d-45c6-e68f-661cec93816f"
      },
      "source": [
        "%%time\r\n",
        "for i in range(P):\r\n",
        "  for j in range(Q):\r\n",
        "    c[i, j] = np.sin(a[i, j] + 1)"
      ],
      "execution_count": null,
      "outputs": [
        {
          "output_type": "stream",
          "text": [
            "CPU times: user 4.59 s, sys: 409 µs, total: 4.59 s\n",
            "Wall time: 4.61 s\n"
          ],
          "name": "stdout"
        }
      ]
    },
    {
      "cell_type": "code",
      "metadata": {
        "id": "o7UgLqbmoCao",
        "colab": {
          "base_uri": "https://localhost:8080/"
        },
        "outputId": "6b4ce67d-c334-48a7-8a4e-1f588e2e4033"
      },
      "source": [
        "%%time\r\n",
        "c = np.sin(a +1)"
      ],
      "execution_count": null,
      "outputs": [
        {
          "output_type": "stream",
          "text": [
            "CPU times: user 57.9 ms, sys: 7.98 ms, total: 65.8 ms\n",
            "Wall time: 67.1 ms\n"
          ],
          "name": "stdout"
        }
      ]
    },
    {
      "cell_type": "code",
      "metadata": {
        "id": "H3k3HrzYoDON",
        "colab": {
          "base_uri": "https://localhost:8080/"
        },
        "outputId": "a43d9784-5758-467b-fb44-fb0dda399b5e"
      },
      "source": [
        "data, labels = make_blobs(n_samples=1000, centers=4, n_features=2, random_state=0)\r\n",
        "print(data.shape, labels.shape)"
      ],
      "execution_count": null,
      "outputs": [
        {
          "output_type": "stream",
          "text": [
            "(1000, 2) (1000,)\n"
          ],
          "name": "stdout"
        }
      ]
    },
    {
      "cell_type": "code",
      "metadata": {
        "id": "CLmHuf46oK3f",
        "colab": {
          "base_uri": "https://localhost:8080/",
          "height": 265
        },
        "outputId": "f34709ea-ec85-4b55-dbc2-21ea0339e6b7"
      },
      "source": [
        "plt.scatter(data[:,0], data[:,1],c = labels,cmap=my_cmap)\r\n",
        "plt.show()"
      ],
      "execution_count": null,
      "outputs": [
        {
          "output_type": "display_data",
          "data": {
            "image/png": "[encoded data removed]",
            "text/plain": [
              "<Figure size 432x288 with 1 Axes>"
            ]
          },
          "metadata": {
            "tags": [],
            "needs_background": "light"
          }
        }
      ]
    },
    {
      "cell_type": "code",
      "metadata": {
        "id": "IuDEMZ6loQMz"
      },
      "source": [
        "labels_orig = labels\r\n",
        "labels = np.mod(labels_orig,2)"
      ],
      "execution_count": null,
      "outputs": []
    },
    {
      "cell_type": "code",
      "metadata": {
        "id": "m1GzX4N7oSNk",
        "colab": {
          "base_uri": "https://localhost:8080/",
          "height": 265
        },
        "outputId": "70201761-822b-4650-95d6-edee1eaf8744"
      },
      "source": [
        "plt.scatter(data[:,0], data[:,1],c = labels,cmap=my_cmap)\r\n",
        "plt.show()"
      ],
      "execution_count": null,
      "outputs": [
        {
          "output_type": "display_data",
          "data": {
            "image/png": "[encoded data removed]",
            "text/plain": [
              "<Figure size 432x288 with 1 Axes>"
            ]
          },
          "metadata": {
            "tags": [],
            "needs_background": "light"
          }
        }
      ]
    },
    {
      "cell_type": "code",
      "metadata": {
        "id": "ibV6h8JVoU95",
        "colab": {
          "base_uri": "https://localhost:8080/"
        },
        "outputId": "351bf9e1-91cf-48a0-f6c3-9f30f196a805"
      },
      "source": [
        "X_train, X_val, Y_train, Y_val = train_test_split(data, labels_orig, stratify=labels_orig, random_state=0)\r\n",
        "print(X_train.shape, X_val.shape, labels_orig.shape)"
      ],
      "execution_count": null,
      "outputs": [
        {
          "output_type": "stream",
          "text": [
            "(750, 2) (250, 2) (1000,)\n"
          ],
          "name": "stdout"
        }
      ]
    },
    {
      "cell_type": "code",
      "metadata": {
        "id": "bP-7swIDoVhC",
        "colab": {
          "base_uri": "https://localhost:8080/"
        },
        "outputId": "8ebb3e20-1672-454c-8e6d-2e2d22d633b9"
      },
      "source": [
        "enc = OneHotEncoder()\r\n",
        "Y_OH_train = enc.fit_transform(np.expand_dims(Y_train,1)).toarray()\r\n",
        "Y_OH_val = enc.fit_transform(np.expand_dims(Y_val,1)).toarray()\r\n",
        "print(Y_OH_train.shape,Y_OH_val.shape)"
      ],
      "execution_count": null,
      "outputs": [
        {
          "output_type": "stream",
          "text": [
            "(750, 4) (250, 4)\n"
          ],
          "name": "stdout"
        }
      ]
    },
    {
      "cell_type": "code",
      "metadata": {
        "id": "JuAkC8JqoebH",
        "colab": {
          "base_uri": "https://localhost:8080/"
        },
        "outputId": "00548e28-dc58-4042-9b3a-ff15363bbe32"
      },
      "source": [
        "W1 = np.random.randn(2,2)\r\n",
        "W2 = np.random.randn(2,4)\r\n",
        "print(W1)\r\n",
        "print(W2)"
      ],
      "execution_count": null,
      "outputs": [
        {
          "output_type": "stream",
          "text": [
            "[[ 1.07979315  0.52551391]\n",
            " [ 0.36856236 -1.23604548]]\n",
            "[[-0.13020634 -2.29461773  0.17758449  0.6812365 ]\n",
            " [-0.05009056  0.12369168 -1.34064015  0.2767105 ]]\n"
          ],
          "name": "stdout"
        }
      ]
    },
    {
      "cell_type": "markdown",
      "metadata": {
        "id": "jEvPOYQh0a2K"
      },
      "source": [
        "##scalar form for mutliclass"
      ]
    },
    {
      "cell_type": "code",
      "metadata": {
        "id": "KTAWtcFno2Ks"
      },
      "source": [
        "class FF_MultiClass_Scalar:\r\n",
        "  \r\n",
        "  def __init__(self, W1, W2):\r\n",
        "    self.w1 = W1[0][0].copy()\r\n",
        "    self.w2 = W1[1][0].copy()\r\n",
        "    self.w3 = W1[0][1].copy()\r\n",
        "    self.w4 = W1[1][1].copy()\r\n",
        "    self.w5 = W2[0][0].copy()\r\n",
        "    self.w6 = W2[1][0].copy()\r\n",
        "    self.w7 = W2[0][1].copy()\r\n",
        "    self.w8 = W2[1][1].copy()\r\n",
        "    self.w9 = W2[0][2].copy()\r\n",
        "    self.w10 = W2[1][2].copy()\r\n",
        "    self.w11 = W2[0][3].copy()\r\n",
        "    self.w12 = W2[1][3].copy()\r\n",
        "    self.b1 = 0\r\n",
        "    self.b2 = 0\r\n",
        "    self.b3 = 0\r\n",
        "    self.b4 = 0\r\n",
        "    self.b5 = 0\r\n",
        "    self.b6 = 0\r\n",
        "  \r\n",
        "  def sigmoid(self, x):\r\n",
        "    return expit(x)\r\n",
        "    #return 1.0/(1.0 + np.exp(-x))\r\n",
        "  \r\n",
        "  def forward_pass(self, x):\r\n",
        "    # input layer\r\n",
        "    self.x1, self.x2 = x\r\n",
        "    \r\n",
        "    # hidden layer\r\n",
        "    self.a1 = self.w1*self.x1 + self.w2*self.x2 + self.b1\r\n",
        "    self.h1 = self.sigmoid(self.a1)\r\n",
        "    self.a2 = self.w3*self.x1 + self.w4*self.x2 + self.b2\r\n",
        "    self.h2 = self.sigmoid(self.a2)\r\n",
        "    \r\n",
        "    # output layer\r\n",
        "    self.a3 = self.w5*self.h1 + self.w6*self.h2 + self.b3\r\n",
        "    self.a4 = self.w7*self.h1 + self.w8*self.h2 + self.b4\r\n",
        "    self.a5 = self.w9*self.h1 + self.w10*self.h2 + self.b5\r\n",
        "    self.a6 = self.w11*self.h1 + self.w12*self.h2 + self.b5\r\n",
        "    sum_exps = np.sum([np.exp(self.a3), np.exp(self.a4), np.exp(self.a5), np.exp(self.a6)])\r\n",
        "    self.h3 = np.exp(self.a3)/sum_exps\r\n",
        "    self.h4 = np.exp(self.a4)/sum_exps\r\n",
        "    self.h5 = np.exp(self.a5)/sum_exps\r\n",
        "    self.h6 = np.exp(self.a6)/sum_exps\r\n",
        "    \r\n",
        "    return np.array([self.h3, self.h4, self.h5, self.h6])\r\n",
        "  \r\n",
        "  def grad(self, x, y):\r\n",
        "    self.forward_pass(x)\r\n",
        "    self.y1, self.y2, self.y3, self.y4 = y\r\n",
        "    \r\n",
        "    self.da3 = (self.h3-self.y1)\r\n",
        "    self.da4 = (self.h4-self.y2)\r\n",
        "    self.da5 = (self.h5-self.y3)\r\n",
        "    self.da6 = (self.h6-self.y4)\r\n",
        "    \r\n",
        "    self.dw5 = self.da3*self.h1\r\n",
        "    self.dw6 = self.da3*self.h2\r\n",
        "    self.db3 = self.da3\r\n",
        "    \r\n",
        "    self.dw7 = self.da4*self.h1\r\n",
        "    self.dw8 = self.da4*self.h2\r\n",
        "    self.db4 = self.da4\r\n",
        "    \r\n",
        "    self.dw9 = self.da5*self.h1\r\n",
        "    self.dw10 = self.da5*self.h2\r\n",
        "    self.db5 = self.da5\r\n",
        "    \r\n",
        "    self.dw11 = self.da6*self.h1\r\n",
        "    self.dw12 = self.da6*self.h2\r\n",
        "    self.db6 = self.da6\r\n",
        "    \r\n",
        "    self.dh1 = self.da3*self.w5 + self.da4*self.w7 + self.da5*self.w9 + self.da6*self.w11\r\n",
        "    self.dh2 = self.da3*self.w6 + self.da4*self.w8 + self.da5*self.w10 + self.da6*self.w12\r\n",
        "    \r\n",
        "    self.da1 = self.dh1 * self.h1*(1-self.h1)\r\n",
        "    self.da2 = self.dh2 * self.h2*(1-self.h2)\r\n",
        "    \r\n",
        "    self.dw1 = self.da1*self.x1\r\n",
        "    self.dw2 = self.da1*self.x2\r\n",
        "    self.db1 = self.da1\r\n",
        "    \r\n",
        "    self.dw3 = self.da2*self.x1\r\n",
        "    self.dw4 = self.da2*self.x2\r\n",
        "    self.db2 = self.da2\r\n",
        "    \r\n",
        "  \r\n",
        "  def fit(self, X, Y, epochs=1, learning_rate=1, display_loss=False, display_weight=False):\r\n",
        "      \r\n",
        "    if display_loss:\r\n",
        "      loss = {}\r\n",
        "    \r\n",
        "    for i in tqdm_notebook(range(epochs), total=epochs, unit=\"epoch\"):\r\n",
        "      dw1, dw2, dw3, dw4, dw5, dw6, dw7, dw8, dw9, dw10, dw11, dw12, db1, db2, db3, db4, db5, db6  = [0]*18\r\n",
        "      for x, y in zip(X, Y):\r\n",
        "        self.grad(x, y)\r\n",
        "        dw1 += self.dw1\r\n",
        "        dw2 += self.dw2\r\n",
        "        dw3 += self.dw3\r\n",
        "        dw4 += self.dw4\r\n",
        "        dw5 += self.dw5\r\n",
        "        dw6 += self.dw6\r\n",
        "        dw7 += self.dw7\r\n",
        "        dw8 += self.dw8\r\n",
        "        dw9 += self.dw9\r\n",
        "        dw10 += self.dw10\r\n",
        "        dw11 += self.dw11\r\n",
        "        dw12 += self.dw12\r\n",
        "        db1 += self.db1\r\n",
        "        db2 += self.db2\r\n",
        "        db3 += self.db3\r\n",
        "        db4 += self.db4\r\n",
        "        db2 += self.db5\r\n",
        "        db3 += self.db6\r\n",
        "        \r\n",
        "      m = X.shape[0]\r\n",
        "      self.w1 -= (learning_rate * (dw1 / m))\r\n",
        "      self.w2 -= (learning_rate * (dw2 / m))\r\n",
        "      self.w3 -= (learning_rate * (dw3 / m))\r\n",
        "      self.w4 -= (learning_rate * (dw4 / m))\r\n",
        "      self.w5 -= (learning_rate * (dw5 / m))\r\n",
        "      self.w6 -= (learning_rate * (dw6 / m))\r\n",
        "      self.w7 -= (learning_rate * (dw7 / m))\r\n",
        "      self.w8 -= (learning_rate * (dw8 / m))\r\n",
        "      self.w9 -= (learning_rate * (dw9 / m))\r\n",
        "      self.w10 -= (learning_rate * (dw10 / m))\r\n",
        "      self.w11 -= (learning_rate * (dw11 / m))\r\n",
        "      self.w12 -= (learning_rate * (dw12 / m))\r\n",
        "      self.b1 -= (learning_rate * (db1 / m))\r\n",
        "      self.b2 -= (learning_rate * (db2 / m))\r\n",
        "      self.b3 -= (learning_rate * (db3 / m))\r\n",
        "      self.b4 -= (learning_rate * (db4 / m))\r\n",
        "      self.b5 -= (learning_rate * (db5 / m))\r\n",
        "      self.b6 -= (learning_rate * (db6 / m))\r\n",
        "      \r\n",
        "      if display_loss:\r\n",
        "        Y_pred = self.predict(X)\r\n",
        "        loss[i] = log_loss(np.argmax(Y, axis=1), Y_pred)\r\n",
        "    \r\n",
        "    if display_loss:\r\n",
        "      Wt1 = [[self.w1, self.w3], [self.w2, self.w4]]\r\n",
        "      Wt2 = [[self.w5, self.w6, self.w7, self.w8], [self.w9, self.w10, self.w11, self.w12]]\r\n",
        "      plt.plot(np.array(list(loss.values())).astype(float))\r\n",
        "      plt.xlabel('Epochs')\r\n",
        "      plt.ylabel('Log Loss')\r\n",
        "      plt.show()\r\n",
        "      \r\n",
        "  def predict(self, X):\r\n",
        "    Y_pred = []\r\n",
        "    for x in X:\r\n",
        "      y_pred = self.forward_pass(x)\r\n",
        "      Y_pred.append(y_pred)\r\n",
        "    return np.array(Y_pred)"
      ],
      "execution_count": null,
      "outputs": []
    },
    {
      "cell_type": "markdown",
      "metadata": {
        "id": "222BvSM60np2"
      },
      "source": [
        "##weight vectorised multiclass model"
      ]
    },
    {
      "cell_type": "code",
      "metadata": {
        "id": "x-I-Gt7HuiIn"
      },
      "source": [
        "class FF_MultiClass_WeightVectorised:\n",
        "  \n",
        "  def __init__(self, W1, W2):\n",
        "    self.W1 = W1.copy()\n",
        "    self.W2 = W2.copy()\n",
        "    self.B1 = np.zeros((1,2))\n",
        "    self.B2 = np.zeros((1,4))\n",
        "  \n",
        "  def sigmoid(self, x):\n",
        "    return 1.0/(1.0 + np.exp(-x))\n",
        "  \n",
        "  def softmax(self, x):\n",
        "    exps = np.exp(x)\n",
        "    return exps / np.sum(exps)\n",
        "  \n",
        "  def forward_pass(self, x):\n",
        "    x = x.reshape(1, -1) # (1, 2)\n",
        "    self.A1 = np.matmul(x,self.W1) + self.B1  # (1, 2) * (2, 2) -> (1, 2)\n",
        "    self.H1 = self.sigmoid(self.A1) # (1, 2)\n",
        "    self.A2 = np.matmul(self.H1, self.W2) + self.B2 # (1, 2) * (2, 4) -> (1, 4) \n",
        "    self.H2 = self.softmax(self.A2) # (1, 4)\n",
        "    return self.H2\n",
        "    \n",
        "  def grad_sigmoid(self, x):\n",
        "    return x*(1-x) \n",
        "  \n",
        "  def grad(self, x, y):\n",
        "    self.forward_pass(x)\n",
        "    x = x.reshape(1, -1) # (1, 2)\n",
        "    y = y.reshape(1, -1) # (1, 4)\n",
        "    \n",
        "    self.dA2 = self.H2 - y # (1, 4) \n",
        "    \n",
        "    self.dW2 = np.matmul(self.H1.T, self.dA2) # (2, 1) * (1, 4) -> (2, 4)\n",
        "    self.dB2 = self.dA2 # (1, 4)\n",
        "    self.dH1 = np.matmul(self.dA2, self.W2.T) # (1, 4) * (4, 2) -> (1, 2)\n",
        "    self.dA1 = np.multiply(self.dH1, self.grad_sigmoid(self.H1)) # -> (1, 2)\n",
        "    \n",
        "    self.dW1 = np.matmul(x.T, self.dA1) # (2, 1) * (1, 2) -> (2, 2)\n",
        "    self.dB1 = self.dA1 # (1, 2)\n",
        "\n",
        "  \n",
        "  def fit(self, X, Y, epochs=1, learning_rate=1, display_loss=False):\n",
        "      \n",
        "    if display_loss:\n",
        "      loss = {}\n",
        "    \n",
        "    for i in tqdm_notebook(range(epochs), total=epochs, unit=\"epoch\"):\n",
        "      dW1 = np.zeros((2,2))\n",
        "      dW2 = np.zeros((2,4))\n",
        "      dB1 = np.zeros((1,2))\n",
        "      dB2 = np.zeros((1,4))\n",
        "      for x, y in zip(X, Y):\n",
        "        self.grad(x, y)\n",
        "        dW1 += self.dW1\n",
        "        dW2 += self.dW2\n",
        "        dB1 += self.dB1\n",
        "        dB2 += self.dB2  \n",
        "        \n",
        "      m = X.shape[0]\n",
        "      self.W2 -= learning_rate * (dW2/m)\n",
        "      self.B2 -= learning_rate * (dB2/m)\n",
        "      self.W1 -= learning_rate * (dW1/m)\n",
        "      self.B1 -= learning_rate * (dB1/m)\n",
        "\n",
        "      if display_loss:\n",
        "        Y_pred = self.predict(X)\n",
        "        loss[i] = log_loss(np.argmax(Y, axis=1), Y_pred)\n",
        "        \n",
        "    \n",
        "    if display_loss:\n",
        "      plt.plot(np.array(list(loss.values())).astype(float))\n",
        "      plt.xlabel('Epochs')\n",
        "      plt.ylabel('Log Loss')\n",
        "      plt.show()\n",
        "      \n",
        "  def predict(self, X):\n",
        "    Y_pred = []\n",
        "    for x in X:\n",
        "      y_pred = self.forward_pass(x)\n",
        "      Y_pred.append(y_pred)\n",
        "    return np.array(Y_pred).squeeze()"
      ],
      "execution_count": null,
      "outputs": []
    },
    {
      "cell_type": "markdown",
      "metadata": {
        "id": "iSZ4-HdX0wBJ"
      },
      "source": [
        "##weight and input vectorised multiclass model"
      ]
    },
    {
      "cell_type": "code",
      "metadata": {
        "id": "56b9dhttuiIw"
      },
      "source": [
        "class FF_MultiClass_InputWeightVectorised:\n",
        "  \n",
        "  def __init__(self, W1, W2):\n",
        "    self.W1 = W1.copy()\n",
        "    self.W2 = W2.copy()\n",
        "    self.B1 = np.zeros((1,2))\n",
        "    self.B2 = np.zeros((1,4))\n",
        "  \n",
        "  def sigmoid(self, X):\n",
        "    return expit(X)\n",
        "    #return 1.0/(1.0 + np.exp(-X))\n",
        "  \n",
        "  def softmax(self, X):\n",
        "    exps = np.exp(X)\n",
        "    return exps / np.sum(exps, axis=1).reshape(-1,1)\n",
        "  \n",
        "  def forward_pass(self, X):\n",
        "    self.A1 = np.matmul(X,self.W1) + self.B1 # (N, 2) * (2, 2) -> (N, 2)\n",
        "    self.H1 = self.sigmoid(self.A1) # (N, 2)\n",
        "    self.A2 = np.matmul(self.H1, self.W2) + self.B2 # (N, 2) * (2, 4) -> (N, 4)\n",
        "    self.H2 = self.softmax(self.A2) # (N, 4)\n",
        "    return self.H2\n",
        "    \n",
        "  def grad_sigmoid(self, X):\n",
        "    return X*(1-X) \n",
        "  \n",
        "  def grad(self, X, Y):\n",
        "    self.forward_pass(X)\n",
        "    m = X.shape[0]\n",
        "    \n",
        "    self.dA2 = self.H2 - Y # (N, 4) - (N, 4) -> (N, 4)\n",
        "    \n",
        "    self.dW2 = np.matmul(self.H1.T, self.dA2) # (2, N) * (N, 4) -> (2, 4)\n",
        "    self.dB2 = np.sum(self.dA2, axis=0).reshape(1, -1) # (N, 4) -> (1, 4)\n",
        "    self.dH1 = np.matmul(self.dA2, self.W2.T) # (N, 4) * (4, 2) -> (N, 2)\n",
        "    self.dA1 = np.multiply(self.dH1, self.grad_sigmoid(self.H1)) # (N, 2) .* (N, 2) -> (N, 2)\n",
        "    \n",
        "    self.dW1 = np.matmul(X.T, self.dA1) # (2, N) * (N, 2) -> (2, 2)\n",
        "    self.dB1 = np.sum(self.dA1, axis=0).reshape(1, -1) # (N, 2) -> (1, 2)\n",
        "\n",
        "      \n",
        "  def fit(self, X, Y, epochs=1, learning_rate=1, display_loss=False):\n",
        "      \n",
        "    if display_loss:\n",
        "      loss = {}\n",
        "    \n",
        "    for i in tqdm_notebook(range(epochs), total=epochs, unit=\"epoch\"):\n",
        "      self.grad(X, Y) # X -> (N, 2), Y -> (N, 4)\n",
        "        \n",
        "      m = X.shape[0]\n",
        "      self.W2 -= learning_rate * (self.dW2/m)\n",
        "      self.B2 -= learning_rate * (self.dB2/m)\n",
        "      self.W1 -= learning_rate * (self.dW1/m)\n",
        "      self.B1 -= learning_rate * (self.dB1/m)\n",
        "\n",
        "      if display_loss:\n",
        "        Y_pred = self.predict(X)\n",
        "        loss[i] = log_loss(np.argmax(Y, axis=1), Y_pred)\n",
        "    \n",
        "    \n",
        "    if display_loss:\n",
        "      plt.plot(np.array(list(loss.values())).astype(float))\n",
        "      plt.xlabel('Epochs')\n",
        "      plt.ylabel('Log Loss')\n",
        "      plt.show()\n",
        "      \n",
        "  \n",
        "  def predict(self, X):\n",
        "    Y_pred = self.forward_pass(X)\n",
        "    return np.array(Y_pred).squeeze()"
      ],
      "execution_count": null,
      "outputs": []
    },
    {
      "cell_type": "markdown",
      "metadata": {
        "id": "S5OGqK8h068w"
      },
      "source": [
        "##Testing and accuracy"
      ]
    },
    {
      "cell_type": "code",
      "metadata": {
        "id": "hpdqP8mopYpH",
        "colab": {
          "base_uri": "https://localhost:8080/",
          "height": 1000,
          "referenced_widgets": [
            "4f3b4906e1bf48ca84b78aec73a6fe52",
            "e82990449885495da566b62284d9c722",
            "1a3e7c42310945279310dfb8a019571a",
            "8f0e8da00fde48cb8bd431d1dd137808",
            "feb9c0362b134459a6dad8cf17cfe16e",
            "b2da70ec06c140d188a75c35c2b43310",
            "c2fbd0dd07ac4275a8505558d6cee8bd",
            "8bdd5d26a0384a99bdf0c64c842c0194",
            "092d7b9ad7b54964ba2546e70d996c83",
            "335eab873ea74228ac10ad257148213b",
            "4b95e5ed4f4e4f9d9d6405d3c8dabd93",
            "24623592290943d2989523a93a633d2f",
            "c892bfb3b5a842f293c3732300c712c9",
            "92891137bab044d797a9064b89eec302",
            "c6f6ad81e71e43c6bc60e48b927486be",
            "db76ded0910c4c7d8de6280fabee1766",
            "3d2c4dee09f54c149974745eb68a85a5",
            "e3481571d85d4167a5fe6b3435005961",
            "9e4a8d6f16e046038f98afbf1a8bce49",
            "74d9eadd2e00463a8cbde6030874d477",
            "00e74cf01ffe4f20a78d4bd6161c8345",
            "8f8f8f2a02a54636ac38838496f7c13b",
            "f6f7d14169254b4dbea1305a0a83c479",
            "b225b12d859d401eb428bfb4a964fff2"
          ]
        },
        "outputId": "7ecfea98-93e9-4d05-ce9c-f179a43180bb"
      },
      "source": [
        "models_init = [FF_MultiClass_Scalar(W1, W2), FF_MultiClass_WeightVectorised(W1, W2),FF_MultiClass_InputWeightVectorised(W1, W2)]\r\n",
        "models = []\r\n",
        "for idx, model in enumerate(models_init, start=1):\r\n",
        "  tic = time.time()\r\n",
        "  ffsn_multi_specific = model\r\n",
        "  ffsn_multi_specific.fit(X_train,Y_OH_train,epochs=2000,learning_rate=.5,display_loss=True)\r\n",
        "  models.append(ffsn_multi_specific)\r\n",
        "  toc = time.time()\r\n",
        "  print(\"Time taken by model {}: {}\".format(idx, toc-tic))"
      ],
      "execution_count": null,
      "outputs": [
        {
          "output_type": "stream",
          "text": [
            "/usr/local/lib/python3.6/dist-packages/ipykernel_launcher.py:95: TqdmDeprecationWarning: This function will be removed in tqdm==5.0.0\n",
            "Please use `tqdm.notebook.tqdm` instead of `tqdm.tqdm_notebook`\n"
          ],
          "name": "stderr"
        },
        {
          "output_type": "display_data",
          "data": {
            "application/vnd.jupyter.widget-view+json": {
              "model_id": "4f3b4906e1bf48ca84b78aec73a6fe52",
              "version_minor": 0,
              "version_major": 2
            },
            "text/plain": [
              "HBox(children=(FloatProgress(value=0.0, max=2000.0), HTML(value='')))"
            ]
          },
          "metadata": {
            "tags": []
          }
        },
        {
          "output_type": "stream",
          "text": [
            "\n"
          ],
          "name": "stdout"
        },
        {
          "output_type": "display_data",
          "data": {
            "image/png": "[encoded data removed]",
            "text/plain": [
              "<Figure size 432x288 with 1 Axes>"
            ]
          },
          "metadata": {
            "tags": [],
            "needs_background": "light"
          }
        },
        {
          "output_type": "stream",
          "text": [
            "Time taken by model 1: 127.94669389724731\n"
          ],
          "name": "stdout"
        },
        {
          "output_type": "stream",
          "text": [
            "/usr/local/lib/python3.6/dist-packages/ipykernel_launcher.py:48: TqdmDeprecationWarning: This function will be removed in tqdm==5.0.0\n",
            "Please use `tqdm.notebook.tqdm` instead of `tqdm.tqdm_notebook`\n"
          ],
          "name": "stderr"
        },
        {
          "output_type": "display_data",
          "data": {
            "application/vnd.jupyter.widget-view+json": {
              "model_id": "092d7b9ad7b54964ba2546e70d996c83",
              "version_minor": 0,
              "version_major": 2
            },
            "text/plain": [
              "HBox(children=(FloatProgress(value=0.0, max=2000.0), HTML(value='')))"
            ]
          },
          "metadata": {
            "tags": []
          }
        },
        {
          "output_type": "stream",
          "text": [
            "\n"
          ],
          "name": "stdout"
        },
        {
          "output_type": "display_data",
          "data": {
            "image/png": "[encoded data removed]",
            "text/plain": [
              "<Figure size 432x288 with 1 Axes>"
            ]
          },
          "metadata": {
            "tags": [],
            "needs_background": "light"
          }
        },
        {
          "output_type": "stream",
          "text": [
            "Time taken by model 2: 86.3136396408081\n"
          ],
          "name": "stdout"
        },
        {
          "output_type": "stream",
          "text": [
            "/usr/local/lib/python3.6/dist-packages/ipykernel_launcher.py:47: TqdmDeprecationWarning: This function will be removed in tqdm==5.0.0\n",
            "Please use `tqdm.notebook.tqdm` instead of `tqdm.tqdm_notebook`\n"
          ],
          "name": "stderr"
        },
        {
          "output_type": "display_data",
          "data": {
            "application/vnd.jupyter.widget-view+json": {
              "model_id": "3d2c4dee09f54c149974745eb68a85a5",
              "version_minor": 0,
              "version_major": 2
            },
            "text/plain": [
              "HBox(children=(FloatProgress(value=0.0, max=2000.0), HTML(value='')))"
            ]
          },
          "metadata": {
            "tags": []
          }
        },
        {
          "output_type": "stream",
          "text": [
            "\n"
          ],
          "name": "stdout"
        },
        {
          "output_type": "display_data",
          "data": {
            "image/png": "[encoded data removed]",
            "text/plain": [
              "<Figure size 432x288 with 1 Axes>"
            ]
          },
          "metadata": {
            "tags": [],
            "needs_background": "light"
          }
        },
        {
          "output_type": "stream",
          "text": [
            "Time taken by model 3: 3.455817222595215\n"
          ],
          "name": "stdout"
        }
      ]
    },
    {
      "cell_type": "code",
      "metadata": {
        "colab": {
          "base_uri": "https://localhost:8080/"
        },
        "id": "0dtRNQcBqGID",
        "outputId": "b5482395-4798-40e9-bf06-bb2d2e040693"
      },
      "source": [
        "for idx, model in enumerate(models, start=1):\r\n",
        "  Y_pred_train = model.predict(X_train)\r\n",
        "  Y_pred_train = np.argmax(Y_pred_train,1)\r\n",
        "\r\n",
        "  Y_pred_val = model.predict(X_val)\r\n",
        "  Y_pred_val = np.argmax(Y_pred_val,1)\r\n",
        "\r\n",
        "  accuracy_train = accuracy_score(Y_pred_train, Y_train)\r\n",
        "  accuracy_val = accuracy_score(Y_pred_val, Y_val)\r\n",
        "  \r\n",
        "  print(\"Model {}\".format(idx))\r\n",
        "  print(\"Training accuracy\", round(accuracy_train, 2))\r\n",
        "  print(\"Validation accuracy\", round(accuracy_val, 2))"
      ],
      "execution_count": null,
      "outputs": [
        {
          "output_type": "stream",
          "text": [
            "Model 1\n",
            "Training accuracy 0.84\n",
            "Validation accuracy 0.88\n",
            "Model 2\n",
            "Training accuracy 0.91\n",
            "Validation accuracy 0.94\n",
            "Model 3\n",
            "Training accuracy 0.91\n",
            "Validation accuracy 0.94\n"
          ],
          "name": "stdout"
        }
      ]
    },
    {
      "cell_type": "code",
      "metadata": {
        "colab": {
          "base_uri": "https://localhost:8080/",
          "height": 265
        },
        "id": "yZJQNAULzjXo",
        "outputId": "68bdb132-dbee-42ba-d2ba-3d87303b1aa0"
      },
      "source": [
        "plt.scatter(X_train[:,0], X_train[:,1], c=Y_pred_train, cmap=my_cmap, s=15*(np.abs(np.sign(Y_pred_train-Y_train))+.1))\r\n",
        "plt.show()"
      ],
      "execution_count": null,
      "outputs": [
        {
          "output_type": "display_data",
          "data": {
            "image/png": "[encoded data removed]",
            "text/plain": [
              "<Figure size 432x288 with 1 Axes>"
            ]
          },
          "metadata": {
            "tags": [],
            "needs_background": "light"
          }
        }
      ]
    }
  ]
}