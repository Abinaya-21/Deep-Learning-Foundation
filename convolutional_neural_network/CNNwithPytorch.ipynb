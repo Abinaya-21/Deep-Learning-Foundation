{
  "nbformat": 4,
  "nbformat_minor": 0,
  "metadata": {
    "accelerator": "GPU",
    "colab": {
      "name": "CNNwithPytorch.ipynb",
      "provenance": [],
      "collapsed_sections": [
        "4Fuh1GIRvp9B",
        "0cK0wC2TZlCM",
        "kYGSNsDhSevI",
        "XUipc_dmJSVx"
      ]
    },
    "kernelspec": {
      "display_name": "Python 3",
      "name": "python3"
    },
    "widgets": {
      "application/vnd.jupyter.widget-state+json": {
        "a8fa83dcf83a449c891b17c8ccb85bb6": {
          "model_module": "@jupyter-widgets/controls",
          "model_name": "HBoxModel",
          "state": {
            "_dom_classes": [],
            "_model_module": "@jupyter-widgets/controls",
            "_model_module_version": "1.5.0",
            "_model_name": "HBoxModel",
            "_view_count": null,
            "_view_module": "@jupyter-widgets/controls",
            "_view_module_version": "1.5.0",
            "_view_name": "HBoxView",
            "box_style": "",
            "children": [
              "IPY_MODEL_2834fdc3781f41f5847dd9d50897a1bf",
              "IPY_MODEL_057adbe0026b45fa9895828134e702ed"
            ],
            "layout": "IPY_MODEL_5ad4abc9a96b4268abca0dee11505c22"
          }
        },
        "2834fdc3781f41f5847dd9d50897a1bf": {
          "model_module": "@jupyter-widgets/controls",
          "model_name": "FloatProgressModel",
          "state": {
            "_dom_classes": [],
            "_model_module": "@jupyter-widgets/controls",
            "_model_module_version": "1.5.0",
            "_model_name": "FloatProgressModel",
            "_view_count": null,
            "_view_module": "@jupyter-widgets/controls",
            "_view_module_version": "1.5.0",
            "_view_name": "ProgressView",
            "bar_style": "success",
            "description": "",
            "description_tooltip": null,
            "layout": "IPY_MODEL_ae7bb187619548369cefeaee1c4ad8c3",
            "max": 1,
            "min": 0,
            "orientation": "horizontal",
            "style": "IPY_MODEL_9534e78742684912b141b2ec0d38fb7f",
            "value": 1
          }
        },
        "057adbe0026b45fa9895828134e702ed": {
          "model_module": "@jupyter-widgets/controls",
          "model_name": "HTMLModel",
          "state": {
            "_dom_classes": [],
            "_model_module": "@jupyter-widgets/controls",
            "_model_module_version": "1.5.0",
            "_model_name": "HTMLModel",
            "_view_count": null,
            "_view_module": "@jupyter-widgets/controls",
            "_view_module_version": "1.5.0",
            "_view_name": "HTMLView",
            "description": "",
            "description_tooltip": null,
            "layout": "IPY_MODEL_674c11d0cfe947cab2c738fa0fddc6e1",
            "placeholder": "​",
            "style": "IPY_MODEL_386f9c637cf049c799afb87d2060b742",
            "value": " 170500096/? [00:04&lt;00:00, 34963344.49it/s]"
          }
        },
        "5ad4abc9a96b4268abca0dee11505c22": {
          "model_module": "@jupyter-widgets/base",
          "model_name": "LayoutModel",
          "state": {
            "_model_module": "@jupyter-widgets/base",
            "_model_module_version": "1.2.0",
            "_model_name": "LayoutModel",
            "_view_count": null,
            "_view_module": "@jupyter-widgets/base",
            "_view_module_version": "1.2.0",
            "_view_name": "LayoutView",
            "align_content": null,
            "align_items": null,
            "align_self": null,
            "border": null,
            "bottom": null,
            "display": null,
            "flex": null,
            "flex_flow": null,
            "grid_area": null,
            "grid_auto_columns": null,
            "grid_auto_flow": null,
            "grid_auto_rows": null,
            "grid_column": null,
            "grid_gap": null,
            "grid_row": null,
            "grid_template_areas": null,
            "grid_template_columns": null,
            "grid_template_rows": null,
            "height": null,
            "justify_content": null,
            "justify_items": null,
            "left": null,
            "margin": null,
            "max_height": null,
            "max_width": null,
            "min_height": null,
            "min_width": null,
            "object_fit": null,
            "object_position": null,
            "order": null,
            "overflow": null,
            "overflow_x": null,
            "overflow_y": null,
            "padding": null,
            "right": null,
            "top": null,
            "visibility": null,
            "width": null
          }
        },
        "ae7bb187619548369cefeaee1c4ad8c3": {
          "model_module": "@jupyter-widgets/base",
          "model_name": "LayoutModel",
          "state": {
            "_model_module": "@jupyter-widgets/base",
            "_model_module_version": "1.2.0",
            "_model_name": "LayoutModel",
            "_view_count": null,
            "_view_module": "@jupyter-widgets/base",
            "_view_module_version": "1.2.0",
            "_view_name": "LayoutView",
            "align_content": null,
            "align_items": null,
            "align_self": null,
            "border": null,
            "bottom": null,
            "display": null,
            "flex": null,
            "flex_flow": null,
            "grid_area": null,
            "grid_auto_columns": null,
            "grid_auto_flow": null,
            "grid_auto_rows": null,
            "grid_column": null,
            "grid_gap": null,
            "grid_row": null,
            "grid_template_areas": null,
            "grid_template_columns": null,
            "grid_template_rows": null,
            "height": null,
            "justify_content": null,
            "justify_items": null,
            "left": null,
            "margin": null,
            "max_height": null,
            "max_width": null,
            "min_height": null,
            "min_width": null,
            "object_fit": null,
            "object_position": null,
            "order": null,
            "overflow": null,
            "overflow_x": null,
            "overflow_y": null,
            "padding": null,
            "right": null,
            "top": null,
            "visibility": null,
            "width": null
          }
        },
        "9534e78742684912b141b2ec0d38fb7f": {
          "model_module": "@jupyter-widgets/controls",
          "model_name": "ProgressStyleModel",
          "state": {
            "_model_module": "@jupyter-widgets/controls",
            "_model_module_version": "1.5.0",
            "_model_name": "ProgressStyleModel",
            "_view_count": null,
            "_view_module": "@jupyter-widgets/base",
            "_view_module_version": "1.2.0",
            "_view_name": "StyleView",
            "bar_color": null,
            "description_width": "initial"
          }
        },
        "674c11d0cfe947cab2c738fa0fddc6e1": {
          "model_module": "@jupyter-widgets/base",
          "model_name": "LayoutModel",
          "state": {
            "_model_module": "@jupyter-widgets/base",
            "_model_module_version": "1.2.0",
            "_model_name": "LayoutModel",
            "_view_count": null,
            "_view_module": "@jupyter-widgets/base",
            "_view_module_version": "1.2.0",
            "_view_name": "LayoutView",
            "align_content": null,
            "align_items": null,
            "align_self": null,
            "border": null,
            "bottom": null,
            "display": null,
            "flex": null,
            "flex_flow": null,
            "grid_area": null,
            "grid_auto_columns": null,
            "grid_auto_flow": null,
            "grid_auto_rows": null,
            "grid_column": null,
            "grid_gap": null,
            "grid_row": null,
            "grid_template_areas": null,
            "grid_template_columns": null,
            "grid_template_rows": null,
            "height": null,
            "justify_content": null,
            "justify_items": null,
            "left": null,
            "margin": null,
            "max_height": null,
            "max_width": null,
            "min_height": null,
            "min_width": null,
            "object_fit": null,
            "object_position": null,
            "order": null,
            "overflow": null,
            "overflow_x": null,
            "overflow_y": null,
            "padding": null,
            "right": null,
            "top": null,
            "visibility": null,
            "width": null
          }
        },
        "386f9c637cf049c799afb87d2060b742": {
          "model_module": "@jupyter-widgets/controls",
          "model_name": "DescriptionStyleModel",
          "state": {
            "_model_module": "@jupyter-widgets/controls",
            "_model_module_version": "1.5.0",
            "_model_name": "DescriptionStyleModel",
            "_view_count": null,
            "_view_module": "@jupyter-widgets/base",
            "_view_module_version": "1.2.0",
            "_view_name": "StyleView",
            "description_width": ""
          }
        }
      }
    }
  },
  "cells": [
    {
      "cell_type": "code",
      "metadata": {
        "id": "v6sXDCLxrSIw"
      },
      "source": [
        "import torch\n",
        "import matplotlib.pyplot as plt\n",
        "import numpy as np"
      ],
      "execution_count": null,
      "outputs": []
    },
    {
      "cell_type": "code",
      "metadata": {
        "colab": {
          "base_uri": "https://localhost:8080/",
          "height": 83,
          "referenced_widgets": [
            "a8fa83dcf83a449c891b17c8ccb85bb6",
            "2834fdc3781f41f5847dd9d50897a1bf",
            "057adbe0026b45fa9895828134e702ed",
            "5ad4abc9a96b4268abca0dee11505c22",
            "ae7bb187619548369cefeaee1c4ad8c3",
            "9534e78742684912b141b2ec0d38fb7f",
            "674c11d0cfe947cab2c738fa0fddc6e1",
            "386f9c637cf049c799afb87d2060b742"
          ]
        },
        "id": "j_-stEsir9O2",
        "outputId": "39ddc1be-3d90-4853-9424-2a7383d33bcf"
      },
      "source": [
        "import torchvision\n",
        "import torchvision.transforms as transforms\n",
        "trainset = torchvision.datasets.CIFAR10(root='./data',train=True,download=True,transform=transforms.ToTensor())\n"
      ],
      "execution_count": null,
      "outputs": [
        {
          "output_type": "stream",
          "text": [
            "Downloading https://www.cs.toronto.edu/~kriz/cifar-10-python.tar.gz to ./data/cifar-10-python.tar.gz\n"
          ],
          "name": "stdout"
        },
        {
          "output_type": "display_data",
          "data": {
            "application/vnd.jupyter.widget-view+json": {
              "model_id": "a8fa83dcf83a449c891b17c8ccb85bb6",
              "version_major": 2,
              "version_minor": 0
            },
            "text/plain": [
              "HBox(children=(FloatProgress(value=1.0, bar_style='info', max=1.0), HTML(value='')))"
            ]
          },
          "metadata": {
            "tags": []
          }
        },
        {
          "output_type": "stream",
          "text": [
            "Extracting ./data/cifar-10-python.tar.gz to ./data\n"
          ],
          "name": "stdout"
        }
      ]
    },
    {
      "cell_type": "code",
      "metadata": {
        "id": "vk52g1e6s7e4"
      },
      "source": [
        "classes = ('plane','car','bird','cat','deer','dog','frog','horse','ship','truck')"
      ],
      "execution_count": null,
      "outputs": []
    },
    {
      "cell_type": "code",
      "metadata": {
        "id": "zSRAodfAt37m"
      },
      "source": [
        "trainloader = torch.utils.data.DataLoader(trainset,batch_size=4,shuffle=True)\n"
      ],
      "execution_count": null,
      "outputs": []
    },
    {
      "cell_type": "code",
      "metadata": {
        "colab": {
          "base_uri": "https://localhost:8080/"
        },
        "id": "nSbLcdGouMNp",
        "outputId": "4ef26488-c2f1-471c-b602-efaa1f0a99f4"
      },
      "source": [
        "dataiter = iter(trainloader)\n",
        "images, labels = dataiter.next()\n",
        "print(images.shape)\n",
        "print(images[1].shape)\n",
        "print(labels[1].item())"
      ],
      "execution_count": null,
      "outputs": [
        {
          "output_type": "stream",
          "text": [
            "torch.Size([4, 3, 32, 32])\n",
            "torch.Size([3, 32, 32])\n",
            "2\n"
          ],
          "name": "stdout"
        }
      ]
    },
    {
      "cell_type": "markdown",
      "metadata": {
        "id": "4Fuh1GIRvp9B"
      },
      "source": [
        "##Visualise data"
      ]
    },
    {
      "cell_type": "code",
      "metadata": {
        "colab": {
          "base_uri": "https://localhost:8080/"
        },
        "id": "4bfMIPbHuP_M",
        "outputId": "001c060c-f0a7-43ae-d922-74d637e59d00"
      },
      "source": [
        "img = images[1]\n",
        "print(type(img))"
      ],
      "execution_count": null,
      "outputs": [
        {
          "output_type": "stream",
          "text": [
            "<class 'torch.Tensor'>\n"
          ],
          "name": "stdout"
        }
      ]
    },
    {
      "cell_type": "code",
      "metadata": {
        "colab": {
          "base_uri": "https://localhost:8080/"
        },
        "id": "4d7Y6TJuuyTV",
        "outputId": "c2a9689f-dcfa-4bab-de75-ce3255d15db8"
      },
      "source": [
        "npimg = img.numpy()\n",
        "print(npimg.shape)"
      ],
      "execution_count": null,
      "outputs": [
        {
          "output_type": "stream",
          "text": [
            "(3, 32, 32)\n"
          ],
          "name": "stdout"
        }
      ]
    },
    {
      "cell_type": "code",
      "metadata": {
        "colab": {
          "base_uri": "https://localhost:8080/"
        },
        "id": "yDXgM3sixQY6",
        "outputId": "63e17bbf-4fec-48d2-b075-7d9ff1e36772"
      },
      "source": [
        "npimg = np.transpose(npimg,(1,2,0))\n",
        "print(npimg.shape)"
      ],
      "execution_count": null,
      "outputs": [
        {
          "output_type": "stream",
          "text": [
            "(32, 32, 3)\n"
          ],
          "name": "stdout"
        }
      ]
    },
    {
      "cell_type": "code",
      "metadata": {
        "colab": {
          "base_uri": "https://localhost:8080/"
        },
        "id": "shDH0Jr_xi2Q",
        "outputId": "ddbc64d1-f09f-4809-c5a4-3073d4d2c92a"
      },
      "source": [
        "plt.figure(figsize = (1,1))\n",
        "plt.imshow(npimg)\n",
        "plt.show()"
      ],
      "execution_count": null,
      "outputs": [
        {
          "output_type": "stream",
          "text": [
            "\n"
          ],
          "name": "stdout"
        },
        {
          "output_type": "display_data",
          "data": {
            "image/png": "[encoded data removed]",
            "text/plain": [
              "<Figure size 72x72 with 1 Axes>"
            ]
          },
          "metadata": {
            "tags": []
          }
        }
      ]
    },
    {
      "cell_type": "code",
      "metadata": {
        "id": "yZV9LW31xoY_"
      },
      "source": [
        "##function for displaying the image\n",
        "def imshow(img):\n",
        "  npimg = img.numpy()\n",
        "  plt.imshow(np.transpose(npimg,(1,2,0)))\n",
        "  plt.show()"
      ],
      "execution_count": null,
      "outputs": []
    },
    {
      "cell_type": "code",
      "metadata": {
        "colab": {
          "base_uri": "https://localhost:8080/",
          "height": 155
        },
        "id": "-NL8xvCQSmPF",
        "outputId": "1595668d-d7b6-4db1-c417-a5cc119ede97"
      },
      "source": [
        "imshow(torchvision.utils.make_grid(images))\n",
        "print(' '.join(classes[labels[j]] for j in range(4)))\n"
      ],
      "execution_count": null,
      "outputs": [
        {
          "output_type": "display_data",
          "data": {
            "image/png": "[encoded data removed]",
            "text/plain": [
              "<Figure size 432x288 with 1 Axes>"
            ]
          },
          "metadata": {
            "tags": []
          }
        },
        {
          "output_type": "stream",
          "text": [
            "frog bird horse car\n"
          ],
          "name": "stdout"
        }
      ]
    },
    {
      "cell_type": "markdown",
      "metadata": {
        "id": "0cK0wC2TZlCM"
      },
      "source": [
        "##single convolution layer"
      ]
    },
    {
      "cell_type": "code",
      "metadata": {
        "id": "HaBX60eOVXfD"
      },
      "source": [
        "import torch.nn as nn\n",
        "class FirstCNN(nn.Module):\n",
        "  def __init__(self):\n",
        "    super(FirstCNN,self).__init__()\n",
        "    self.conv1 = nn.Conv2d(3,16,3,padding=(1,1),stride=(2,2)) #nn.Conv2d(no_of_channels,output_channels,kernal_size)\n",
        "\n",
        "  def forward(self, x):\n",
        "        x = self.conv1(x)\n",
        "        return x\n",
        "\n",
        "  "
      ],
      "execution_count": null,
      "outputs": []
    },
    {
      "cell_type": "code",
      "metadata": {
        "id": "zmEGe0_GZejX"
      },
      "source": [
        "net = FirstCNN()"
      ],
      "execution_count": null,
      "outputs": []
    },
    {
      "cell_type": "code",
      "metadata": {
        "colab": {
          "base_uri": "https://localhost:8080/"
        },
        "id": "qrRnXdeebiIm",
        "outputId": "3b56b745-adb1-4de5-aa4f-4ec09b40d537"
      },
      "source": [
        "out = net(images)\n",
        "out.shape # batch_size,output_channels,(16,16)-> image size since stride is 2 image is halved"
      ],
      "execution_count": null,
      "outputs": [
        {
          "output_type": "execute_result",
          "data": {
            "text/plain": [
              "torch.Size([4, 16, 16, 16])"
            ]
          },
          "metadata": {
            "tags": []
          },
          "execution_count": 16
        }
      ]
    },
    {
      "cell_type": "code",
      "metadata": {
        "colab": {
          "base_uri": "https://localhost:8080/"
        },
        "id": "WOWnX8pqb-ir",
        "outputId": "c05c0a1f-86d6-4147-cf41-6e8a08988be6"
      },
      "source": [
        "for params in net.parameters():\n",
        "  print(params.shape) \n",
        "  #print(params)"
      ],
      "execution_count": null,
      "outputs": [
        {
          "output_type": "stream",
          "text": [
            "torch.Size([16, 3, 3, 3])\n",
            "torch.Size([16])\n"
          ],
          "name": "stdout"
        }
      ]
    },
    {
      "cell_type": "code",
      "metadata": {
        "colab": {
          "base_uri": "https://localhost:8080/"
        },
        "id": "KSkOCa8mcL2T",
        "outputId": "61e823b7-bd7b-401d-b37b-2ee620df25ad"
      },
      "source": [
        "out1 = out[0, 0, :, :].detach().numpy() #0th batch 0th output_channel, image_size\n",
        "print(out1.shape) #image_size"
      ],
      "execution_count": null,
      "outputs": [
        {
          "output_type": "stream",
          "text": [
            "(16, 16)\n"
          ],
          "name": "stdout"
        }
      ]
    },
    {
      "cell_type": "code",
      "metadata": {
        "colab": {
          "base_uri": "https://localhost:8080/"
        },
        "id": "tm_AzMTdSF5r",
        "outputId": "eb08f428-0df8-4287-da8b-af4ba39c6fe9"
      },
      "source": [
        "plt.imshow(out1)\n",
        "plt.show()"
      ],
      "execution_count": null,
      "outputs": [
        {
          "output_type": "display_data",
          "data": {
            "image/png": "[encoded data removed]",
            "text/plain": [
              "<Figure size 432x288 with 1 Axes>"
            ]
          },
          "metadata": {
            "tags": []
          }
        }
      ]
    },
    {
      "cell_type": "markdown",
      "metadata": {
        "id": "kYGSNsDhSevI"
      },
      "source": [
        "##Deep convolutional network"
      ]
    },
    {
      "cell_type": "code",
      "metadata": {
        "id": "IaoSg56ASQ_P"
      },
      "source": [
        "class FirstCNN_v2(nn.Module):\n",
        "  def __init__(self):\n",
        "    super(FirstCNN_v2,self).__init__()\n",
        "    self.model = nn.Sequential(\n",
        "        nn.Conv2d(3,8,3), #(N,3,32,32) -> (N,8,30,30)\n",
        "        nn.Conv2d(8,16,3) #(N,8,30,30) -> (N,16,28,28)\n",
        "    )\n",
        "\n",
        "  def forward(self,x):\n",
        "    x=self.model(x)\n",
        "    return (x)"
      ],
      "execution_count": null,
      "outputs": []
    },
    {
      "cell_type": "code",
      "metadata": {
        "colab": {
          "base_uri": "https://localhost:8080/"
        },
        "id": "t44wkv3mAyVg",
        "outputId": "b3938216-2e0b-4123-eb84-88f3664b3606"
      },
      "source": [
        "net = FirstCNN_v2()\n",
        "out = net(images)\n",
        "out.shape"
      ],
      "execution_count": null,
      "outputs": [
        {
          "output_type": "execute_result",
          "data": {
            "text/plain": [
              "torch.Size([4, 16, 28, 28])"
            ]
          },
          "metadata": {
            "tags": []
          },
          "execution_count": 21
        }
      ]
    },
    {
      "cell_type": "code",
      "metadata": {
        "colab": {
          "base_uri": "https://localhost:8080/",
          "height": 265
        },
        "id": "YF49_y5AD867",
        "outputId": "df8e84a3-dae7-406c-f98a-963a9fdf3c66"
      },
      "source": [
        "plt.imshow(out[0,1,:,:].detach().numpy())\n",
        "plt.show()"
      ],
      "execution_count": null,
      "outputs": [
        {
          "output_type": "display_data",
          "data": {
            "image/png": "[encoded data removed]",
            "text/plain": [
              "<Figure size 432x288 with 1 Axes>"
            ]
          },
          "metadata": {
            "tags": []
          }
        }
      ]
    },
    {
      "cell_type": "code",
      "metadata": {
        "id": "6OOF60tIELHx"
      },
      "source": [
        "# with pooling layer\n",
        "class FirstCNN_v3(nn.Module):\n",
        "  def __init__(self):\n",
        "    super(FirstCNN_v3,self).__init__()\n",
        "    self.model = nn.Sequential(\n",
        "        nn.Conv2d(3,6,5), #(N,3,32,32) => (N,6,28,28)\n",
        "        nn.AvgPool2d(2, stride=2), #(N,6,28,28) => (N,6,14,14)\n",
        "        nn.Conv2d(6, 16, 5), #(N,6,14,14) => (N,16,10,10)\n",
        "        nn.AvgPool2d(2,stride=2)  #(N,6,14,14) => (N,16,5,5)\n",
        "    )\n",
        "  def forward(self,x):\n",
        "    x = self.model(x)\n",
        "    return x"
      ],
      "execution_count": null,
      "outputs": []
    },
    {
      "cell_type": "code",
      "metadata": {
        "colab": {
          "base_uri": "https://localhost:8080/"
        },
        "id": "cBoU-xE1GGJ4",
        "outputId": "4c17e925-d706-4882-b0a9-f1e00e97f0ae"
      },
      "source": [
        "net = FirstCNN_v3()\n",
        "out=net(images)\n",
        "out.shape"
      ],
      "execution_count": null,
      "outputs": [
        {
          "output_type": "execute_result",
          "data": {
            "text/plain": [
              "torch.Size([4, 16, 5, 5])"
            ]
          },
          "metadata": {
            "tags": []
          },
          "execution_count": 24
        }
      ]
    },
    {
      "cell_type": "code",
      "metadata": {
        "colab": {
          "base_uri": "https://localhost:8080/",
          "height": 265
        },
        "id": "SKSkIiX-GLDp",
        "outputId": "ee5959f4-e7af-47b5-b8e5-a09d5619766a"
      },
      "source": [
        "plt.imshow(out[0,1,:,:].detach().numpy())\n",
        "plt.show()"
      ],
      "execution_count": null,
      "outputs": [
        {
          "output_type": "display_data",
          "data": {
            "image/png": "[encoded data removed]",
            "text/plain": [
              "<Figure size 432x288 with 1 Axes>"
            ]
          },
          "metadata": {
            "tags": []
          }
        }
      ]
    },
    {
      "cell_type": "markdown",
      "metadata": {
        "id": "Ux--WaIhGnsY"
      },
      "source": [
        "##Le Net"
      ]
    },
    {
      "cell_type": "code",
      "metadata": {
        "id": "w2VJ-0rcGhHa"
      },
      "source": [
        "class LeNet(nn.Module):\n",
        "  def __init__(self):\n",
        "    super(LeNet,self).__init__()\n",
        "    self.cnn_model = nn.Sequential(\n",
        "        nn.Conv2d(3,6,5), #(N,3,32,32) => (N,6,28,28)\n",
        "        nn.Tanh(),\n",
        "        nn.AvgPool2d(2,stride=2), #(N,6,28,28) => (N,6,14,14)\n",
        "        nn.Conv2d(6,16,5), # (N, 6, 14, 14) -> (N, 16, 10, 10)  \n",
        "        nn.Tanh(),\n",
        "        nn.AvgPool2d(2,stride=2) #(N,16,10,10) => (N,16,5,5)\n",
        "    )\n",
        "    self.fc_model = nn.Sequential(\n",
        "        nn.Linear(400,120), \n",
        "        nn.Tanh(),\n",
        "        nn.Linear(120,84),\n",
        "        nn.Tanh(),\n",
        "        nn.Linear(84,10)\n",
        "    )\n",
        "  def forward(self,x):\n",
        "    x = self.cnn_model(x)\n",
        "    x = x.view(x.size(0),-1) #(N, 16, 5, 5) => (N,16*5*5) => (N,400) (flattening)\n",
        "    x = self.fc_model(x)\n",
        "    return x"
      ],
      "execution_count": null,
      "outputs": []
    },
    {
      "cell_type": "code",
      "metadata": {
        "id": "7ssOfSt16J_S"
      },
      "source": [
        "net = LeNet()\n",
        "out = net(images)\n"
      ],
      "execution_count": null,
      "outputs": []
    },
    {
      "cell_type": "code",
      "metadata": {
        "colab": {
          "base_uri": "https://localhost:8080/"
        },
        "id": "gigFvJCC6PAc",
        "outputId": "ad610ecb-0aaa-489c-aabc-6b65923c6b34"
      },
      "source": [
        "out.shape"
      ],
      "execution_count": null,
      "outputs": [
        {
          "output_type": "execute_result",
          "data": {
            "text/plain": [
              "torch.Size([4, 10])"
            ]
          },
          "metadata": {
            "tags": []
          },
          "execution_count": 28
        }
      ]
    },
    {
      "cell_type": "code",
      "metadata": {
        "colab": {
          "base_uri": "https://localhost:8080/"
        },
        "id": "7A3aUiLy6Qyg",
        "outputId": "c7b4d599-8cc0-48ad-9df4-434a080cc02f"
      },
      "source": [
        "out"
      ],
      "execution_count": null,
      "outputs": [
        {
          "output_type": "execute_result",
          "data": {
            "text/plain": [
              "tensor([[-0.0348, -0.0980, -0.0273, -0.0750, -0.0437, -0.0439, -0.0403,  0.0577,\n",
              "         -0.0716,  0.0066],\n",
              "        [-0.0403, -0.1167, -0.0423, -0.0684, -0.0470, -0.0410, -0.0322,  0.0693,\n",
              "         -0.0824,  0.0259],\n",
              "        [-0.0402, -0.1093, -0.0366, -0.0731, -0.0535, -0.0384, -0.0522,  0.0690,\n",
              "         -0.0882,  0.0224],\n",
              "        [-0.0412, -0.1245, -0.0492, -0.0738, -0.0510, -0.0210, -0.0448,  0.0705,\n",
              "         -0.1006,  0.0472]], grad_fn=<AddmmBackward>)"
            ]
          },
          "metadata": {
            "tags": []
          },
          "execution_count": 29
        }
      ]
    },
    {
      "cell_type": "code",
      "metadata": {
        "colab": {
          "base_uri": "https://localhost:8080/"
        },
        "id": "NsVv4b_D7ZCW",
        "outputId": "ee03d9fc-34ec-402b-9847-f9e97eaf462e"
      },
      "source": [
        "max_value,pred_class = torch.max(out.data,1)\n",
        "print(max_value,pred_class)"
      ],
      "execution_count": null,
      "outputs": [
        {
          "output_type": "stream",
          "text": [
            "tensor([0.0577, 0.0693, 0.0690, 0.0705]) tensor([7, 7, 7, 7])\n"
          ],
          "name": "stdout"
        }
      ]
    },
    {
      "cell_type": "markdown",
      "metadata": {
        "id": "ZSJ8g5bG7qxl"
      },
      "source": [
        "##Training LeNet"
      ]
    },
    {
      "cell_type": "code",
      "metadata": {
        "colab": {
          "base_uri": "https://localhost:8080/"
        },
        "id": "BSrMO1RC8rfn",
        "outputId": "105e018a-7d6b-4339-ca24-f564b9fcdff3"
      },
      "source": [
        "batch_size = 128\n",
        "trainset = torchvision.datasets.CIFAR10(root='./data',train=True,download=True,transform=transforms.ToTensor())\n",
        "trainloader = torch.utils.data.DataLoader(trainset,batch_size=batch_size,shuffle=True)\n",
        "testset = torchvision.datasets.CIFAR10(root='./data',train=False,download=True,transform=transforms.ToTensor())\n",
        "testloader = torch.utils.data.DataLoader(testset,batch_size=batch_size,shuffle=False)\n"
      ],
      "execution_count": null,
      "outputs": [
        {
          "output_type": "stream",
          "text": [
            "Files already downloaded and verified\n",
            "Files already downloaded and verified\n"
          ],
          "name": "stdout"
        }
      ]
    },
    {
      "cell_type": "code",
      "metadata": {
        "id": "yWRPZ1wH6aNW"
      },
      "source": [
        "net = LeNet()"
      ],
      "execution_count": null,
      "outputs": []
    },
    {
      "cell_type": "code",
      "metadata": {
        "id": "Pa8merlVCJrY"
      },
      "source": [
        "import torch.optim as optim\n",
        "\n",
        "loss_func = nn.CrossEntropyLoss()\n",
        "opt = optim.Adam(net.parameters())"
      ],
      "execution_count": null,
      "outputs": []
    },
    {
      "cell_type": "code",
      "metadata": {
        "colab": {
          "base_uri": "https://localhost:8080/"
        },
        "id": "nkZvVMcGCyye",
        "outputId": "cbf5fd03-8797-4166-e3ca-7d635b0d514c"
      },
      "source": [
        "opt"
      ],
      "execution_count": null,
      "outputs": [
        {
          "output_type": "execute_result",
          "data": {
            "text/plain": [
              "Adam (\n",
              "Parameter Group 0\n",
              "    amsgrad: False\n",
              "    betas: (0.9, 0.999)\n",
              "    eps: 1e-08\n",
              "    lr: 0.001\n",
              "    weight_decay: 0\n",
              ")"
            ]
          },
          "metadata": {
            "tags": []
          },
          "execution_count": 34
        }
      ]
    },
    {
      "cell_type": "code",
      "metadata": {
        "id": "luErpfLFE2nW"
      },
      "source": [
        "def evaluation(dataloader):\n",
        "  total,correct = 0,0\n",
        "  for data in dataloader:\n",
        "    inputs,labels = data\n",
        "    outputs = net(inputs)\n",
        "    _,pred = torch.max(outputs.data,1)\n",
        "    total += labels.size(0)\n",
        "    correct+= (pred == labels).sum().item()\n",
        "    \n",
        "  return 100 * correct / total"
      ],
      "execution_count": null,
      "outputs": []
    },
    {
      "cell_type": "code",
      "metadata": {
        "colab": {
          "base_uri": "https://localhost:8080/",
          "height": 571
        },
        "id": "At5iutR5C0Y0",
        "outputId": "0d2e0262-dadd-4edc-f9d7-764be5f3c545"
      },
      "source": [
        "%%time\n",
        "loss_arr = []\n",
        "loss_epoch_arr =[]\n",
        "max_epochs = 16\n",
        "\n",
        "for epoch in range(max_epochs):\n",
        "  for i,data in enumerate(trainloader,0):\n",
        "    inputs,labels= data\n",
        "    opt.zero_grad()\n",
        "    outputs = net(inputs)\n",
        "    loss = loss_func(outputs,labels)\n",
        "    loss.backward()\n",
        "    opt.step()\n",
        "\n",
        "    loss_arr.append(loss.item())\n",
        "  loss_epoch_arr.append(loss.item())\n",
        "\n",
        "  print('Epoch: %d/%d, Test Accuracy: %0.2f,Train Accuracy: %0.2f' %(epoch,max_epochs,evaluation(testloader),evaluation(trainloader)))\n",
        "\n",
        "plt.plot(loss_epoch_arr)\n",
        "plt.show()"
      ],
      "execution_count": null,
      "outputs": [
        {
          "output_type": "stream",
          "text": [
            "Epoch: 0/16, Test Accuracy: 37.90,Train Accuracy: 38.21\n",
            "Epoch: 1/16, Test Accuracy: 43.18,Train Accuracy: 43.55\n",
            "Epoch: 2/16, Test Accuracy: 47.33,Train Accuracy: 48.57\n",
            "Epoch: 3/16, Test Accuracy: 50.20,Train Accuracy: 51.57\n",
            "Epoch: 4/16, Test Accuracy: 51.28,Train Accuracy: 53.30\n",
            "Epoch: 5/16, Test Accuracy: 51.88,Train Accuracy: 54.43\n",
            "Epoch: 6/16, Test Accuracy: 52.91,Train Accuracy: 56.72\n",
            "Epoch: 7/16, Test Accuracy: 52.87,Train Accuracy: 57.63\n",
            "Epoch: 8/16, Test Accuracy: 54.27,Train Accuracy: 59.27\n",
            "Epoch: 9/16, Test Accuracy: 54.83,Train Accuracy: 60.65\n",
            "Epoch: 10/16, Test Accuracy: 54.80,Train Accuracy: 61.58\n",
            "Epoch: 11/16, Test Accuracy: 54.72,Train Accuracy: 61.82\n",
            "Epoch: 12/16, Test Accuracy: 54.91,Train Accuracy: 62.74\n",
            "Epoch: 13/16, Test Accuracy: 54.67,Train Accuracy: 62.80\n",
            "Epoch: 14/16, Test Accuracy: 56.08,Train Accuracy: 65.07\n",
            "Epoch: 15/16, Test Accuracy: 55.82,Train Accuracy: 65.61\n"
          ],
          "name": "stdout"
        },
        {
          "output_type": "display_data",
          "data": {
            "image/png": "[encoded data removed]",
            "text/plain": [
              "<Figure size 432x288 with 1 Axes>"
            ]
          },
          "metadata": {
            "tags": []
          }
        },
        {
          "output_type": "stream",
          "text": [
            "CPU times: user 6min 33s, sys: 2.36 s, total: 6min 36s\n",
            "Wall time: 6min 36s\n"
          ],
          "name": "stdout"
        }
      ]
    },
    {
      "cell_type": "code",
      "metadata": {
        "colab": {
          "base_uri": "https://localhost:8080/"
        },
        "id": "x44SGIgWF19n",
        "outputId": "380f1ad4-1b30-4cd3-d932-131152f171ca"
      },
      "source": [
        "device = torch.device(\"cuda:0\" if torch.cuda.is_available() else \"cpu\")\n",
        "print(device)"
      ],
      "execution_count": null,
      "outputs": [
        {
          "output_type": "stream",
          "text": [
            "cuda:0\n"
          ],
          "name": "stdout"
        }
      ]
    },
    {
      "cell_type": "code",
      "metadata": {
        "id": "GeWAdL6HTKFw"
      },
      "source": [
        "def evaluation(dataloader):\n",
        "  total,correct = 0,0\n",
        "  for data in dataloader:\n",
        "    inputs, labels = data\n",
        "    inputs, labels = inputs.to(device), labels.to(device)\n",
        "    outputs = net(inputs)\n",
        "    _, pred = torch.max(outputs.data, 1)\n",
        "    total += labels.size(0)\n",
        "    correct += (pred == labels).sum().item()\n",
        "  return 100 * correct / total"
      ],
      "execution_count": null,
      "outputs": []
    },
    {
      "cell_type": "code",
      "metadata": {
        "id": "-lES9OJPGqdx"
      },
      "source": [
        "net = LeNet().to(device)\n",
        "loss_fn = nn.CrossEntropyLoss()\n",
        "opt = optim.Adam(net.parameters())"
      ],
      "execution_count": null,
      "outputs": []
    },
    {
      "cell_type": "code",
      "metadata": {
        "colab": {
          "base_uri": "https://localhost:8080/"
        },
        "id": "3bde3C-9HG-L",
        "outputId": "c9373cdb-3d01-4568-b01a-5521de005251"
      },
      "source": [
        "%%time\n",
        "loss_arr = []\n",
        "loss_epoch_arr =[]\n",
        "max_epochs = 16\n",
        "\n",
        "for epoch in range(max_epochs):\n",
        "  for i,data in enumerate(trainloader,0):\n",
        "    inputs,labels= data\n",
        "    inputs, labels = inputs.to(device), labels.to(device)\n",
        "    opt.zero_grad()\n",
        "    outputs = net(inputs)\n",
        "    loss = loss_func(outputs,labels)\n",
        "    loss.backward()\n",
        "    opt.step()"
      ],
      "execution_count": null,
      "outputs": [
        {
          "output_type": "stream",
          "text": [
            "CPU times: user 1min 31s, sys: 677 ms, total: 1min 31s\n",
            "Wall time: 1min 32s\n"
          ],
          "name": "stdout"
        }
      ]
    },
    {
      "cell_type": "code",
      "metadata": {
        "colab": {
          "base_uri": "https://localhost:8080/"
        },
        "id": "wTHnOZQHI8Mf",
        "outputId": "9010fe66-dcf9-43a6-90b8-5d95c92d1440"
      },
      "source": [
        "print('Test acc: %0.2f, Train acc: %0.2f' % (evaluation(testloader), evaluation(trainloader)))"
      ],
      "execution_count": null,
      "outputs": [
        {
          "output_type": "stream",
          "text": [
            "Test acc: 56.04, Train acc: 65.12\n"
          ],
          "name": "stdout"
        }
      ]
    },
    {
      "cell_type": "markdown",
      "metadata": {
        "id": "XUipc_dmJSVx"
      },
      "source": [
        "##Basic Visualisation"
      ]
    },
    {
      "cell_type": "code",
      "metadata": {
        "colab": {
          "base_uri": "https://localhost:8080/",
          "height": 138
        },
        "id": "IxIMQMHhJQBL",
        "outputId": "c36e6ae9-a3ad-4086-87db-e939e9a9dc26"
      },
      "source": [
        "imshow(torchvision.utils.make_grid(images))"
      ],
      "execution_count": null,
      "outputs": [
        {
          "output_type": "display_data",
          "data": {
            "image/png": "[encoded data removed]",
            "text/plain": [
              "<Figure size 432x288 with 1 Axes>"
            ]
          },
          "metadata": {
            "tags": []
          }
        }
      ]
    },
    {
      "cell_type": "code",
      "metadata": {
        "id": "BooxrHNiJeQx"
      },
      "source": [
        "net = net.to('cpu')"
      ],
      "execution_count": null,
      "outputs": []
    },
    {
      "cell_type": "code",
      "metadata": {
        "colab": {
          "base_uri": "https://localhost:8080/"
        },
        "id": "-FnIHVKeJjsv",
        "outputId": "ad6b6ea0-466b-4aeb-e649-e0a05cf9e9ba"
      },
      "source": [
        "out = net(images)\n",
        "print(out.shape)"
      ],
      "execution_count": null,
      "outputs": [
        {
          "output_type": "stream",
          "text": [
            "torch.Size([4, 10])\n"
          ],
          "name": "stdout"
        }
      ]
    },
    {
      "cell_type": "code",
      "metadata": {
        "colab": {
          "base_uri": "https://localhost:8080/"
        },
        "id": "2g8QsGIcJm1z",
        "outputId": "da39e848-fe57-42ce-ceda-efa72f4225b8"
      },
      "source": [
        "#checking the output of first convolutional layer in LeNet\n",
        "out = net.cnn_model[0](images)\n",
        "out.shape"
      ],
      "execution_count": null,
      "outputs": [
        {
          "output_type": "execute_result",
          "data": {
            "text/plain": [
              "torch.Size([4, 6, 28, 28])"
            ]
          },
          "metadata": {
            "tags": []
          },
          "execution_count": 46
        }
      ]
    },
    {
      "cell_type": "code",
      "metadata": {
        "colab": {
          "base_uri": "https://localhost:8080/",
          "height": 159
        },
        "id": "jxJ1VKDEJ11E",
        "outputId": "4e713959-df4b-447c-9ab7-f7314171a61e"
      },
      "source": [
        "image_id = 3\n",
        "plt.figure(figsize=(2,2))\n",
        "imshow(images[image_id,])"
      ],
      "execution_count": null,
      "outputs": [
        {
          "output_type": "display_data",
          "data": {
            "image/png": "[encoded data removed]",
            "text/plain": [
              "<Figure size 144x144 with 1 Axes>"
            ]
          },
          "metadata": {
            "tags": []
          }
        }
      ]
    },
    {
      "cell_type": "code",
      "metadata": {
        "colab": {
          "base_uri": "https://localhost:8080/",
          "height": 430
        },
        "id": "JAhQlD-zKIVM",
        "outputId": "01274d59-6e25-41d2-adab-9c3cf8ab1ed2"
      },
      "source": [
        "plt.figure(figsize = (6,6))\n",
        "plt.subplot(321)\n",
        "for i in range(6):\n",
        "    ax1 = plt.subplot(3, 2, i+1)\n",
        "    plt.imshow(out[image_id, i, :, :].detach().numpy(), cmap=\"binary\")\n",
        "plt.show()"
      ],
      "execution_count": null,
      "outputs": [
        {
          "output_type": "stream",
          "text": [
            "/usr/local/lib/python3.6/dist-packages/ipykernel_launcher.py:4: MatplotlibDeprecationWarning: Adding an axes using the same arguments as a previous axes currently reuses the earlier instance.  In a future version, a new instance will always be created and returned.  Meanwhile, this warning can be suppressed, and the future behavior ensured, by passing a unique label to each axes instance.\n",
            "  after removing the cwd from sys.path.\n"
          ],
          "name": "stderr"
        },
        {
          "output_type": "display_data",
          "data": {
            "image/png": "[encoded data removed]",
            "text/plain": [
              "<Figure size 432x432 with 6 Axes>"
            ]
          },
          "metadata": {
            "tags": []
          }
        }
      ]
    },
    {
      "cell_type": "markdown",
      "metadata": {
        "id": "DNLhOX5oTdva"
      },
      "source": [
        "#Exercises "
      ]
    },
    {
      "cell_type": "code",
      "metadata": {
        "id": "S0Va_spOKSm8"
      },
      "source": [
        "# With ReLU activation function\n",
        "class LeNet(nn.Module):\n",
        "  def __init__(self):\n",
        "    super(LeNet,self).__init__()\n",
        "    self.cnn_model = nn.Sequential(\n",
        "        nn.Conv2d(3,6,5), #(N,3,32,32) => (N,6,28,28)\n",
        "        nn.Tanh(),\n",
        "        nn.AvgPool2d(2,stride=2), #(N,6,28,28) => (N,6,14,14)\n",
        "        nn.Conv2d(6,16,5), # (N, 6, 14, 14) -> (N, 16, 10, 10)  \n",
        "        nn.Tanh(),\n",
        "        nn.AvgPool2d(2,stride=2) #(N,16,10,10) => (N,16,5,5)\n",
        "    )\n",
        "    self.fc_model = nn.Sequential(\n",
        "        nn.Linear(400,120), \n",
        "        nn.ReLU(),\n",
        "        nn.Linear(120,84),\n",
        "        nn.ReLU(),\n",
        "        nn.Linear(84,10)\n",
        "    )\n",
        "  def forward(self,x):\n",
        "    x = self.cnn_model(x)\n",
        "    x = x.view(x.size(0),-1) #(N, 16, 5, 5) => (N,16*5*5) => (N,400) (flattening)\n",
        "    x = self.fc_model(x)\n",
        "    return x"
      ],
      "execution_count": null,
      "outputs": []
    },
    {
      "cell_type": "code",
      "metadata": {
        "id": "Y43cDmUbQpRH"
      },
      "source": [
        "net = LeNet().to(device)"
      ],
      "execution_count": null,
      "outputs": []
    },
    {
      "cell_type": "code",
      "metadata": {
        "id": "lSopjcTqQsK6"
      },
      "source": [
        "loss_func = nn.CrossEntropyLoss()\n",
        "opt = optim.Adam(net.parameters())"
      ],
      "execution_count": null,
      "outputs": []
    },
    {
      "cell_type": "code",
      "metadata": {
        "colab": {
          "base_uri": "https://localhost:8080/"
        },
        "id": "LhjHnEuMTo4j",
        "outputId": "7696da09-e421-4e9f-f5d3-ec3b3b27ca02"
      },
      "source": [
        "opt"
      ],
      "execution_count": null,
      "outputs": [
        {
          "output_type": "execute_result",
          "data": {
            "text/plain": [
              "Adam (\n",
              "Parameter Group 0\n",
              "    amsgrad: False\n",
              "    betas: (0.9, 0.999)\n",
              "    eps: 1e-08\n",
              "    lr: 0.001\n",
              "    weight_decay: 0\n",
              ")"
            ]
          },
          "metadata": {
            "tags": []
          },
          "execution_count": 57
        }
      ]
    },
    {
      "cell_type": "code",
      "metadata": {
        "colab": {
          "base_uri": "https://localhost:8080/"
        },
        "id": "NNAHlfkVQ0Oc",
        "outputId": "dc8c3ca7-92d8-4a4d-fd38-5c2684f36ac2"
      },
      "source": [
        "%%time\n",
        "loss_arr = []\n",
        "loss_epoch_arr =[]\n",
        "max_epochs = 16\n",
        "\n",
        "for epoch in range(max_epochs):\n",
        "  for i,data in enumerate(trainloader,0):\n",
        "    inputs,labels= data\n",
        "    inputs, labels = inputs.to(device), labels.to(device)\n",
        "    opt.zero_grad()\n",
        "    outputs = net(inputs)\n",
        "    loss = loss_func(outputs,labels)\n",
        "    loss.backward()\n",
        "    opt.step()"
      ],
      "execution_count": null,
      "outputs": [
        {
          "output_type": "stream",
          "text": [
            "CPU times: user 1min 31s, sys: 732 ms, total: 1min 32s\n",
            "Wall time: 1min 32s\n"
          ],
          "name": "stdout"
        }
      ]
    },
    {
      "cell_type": "code",
      "metadata": {
        "colab": {
          "base_uri": "https://localhost:8080/"
        },
        "id": "1Qt2tq56RNjl",
        "outputId": "9d991412-65a1-4c49-90c2-119b04f2eebd"
      },
      "source": [
        "print('Test acc: %0.2f, Train acc: %0.2f' % (evaluation(testloader), evaluation(trainloader)))"
      ],
      "execution_count": null,
      "outputs": [
        {
          "output_type": "stream",
          "text": [
            "Test acc: 56.69, Train acc: 67.03\n"
          ],
          "name": "stdout"
        }
      ]
    },
    {
      "cell_type": "markdown",
      "metadata": {
        "id": "YSLAZm1WTMqc"
      },
      "source": [
        "##Adding L2 Regularization"
      ]
    },
    {
      "cell_type": "code",
      "metadata": {
        "id": "lb8tbU0_TUlG"
      },
      "source": [
        "net = LeNet().to(device)\n",
        "opt = optim.Adam(net.parameters(),weight_decay=1,lr=0.01)"
      ],
      "execution_count": null,
      "outputs": []
    },
    {
      "cell_type": "code",
      "metadata": {
        "colab": {
          "base_uri": "https://localhost:8080/"
        },
        "id": "_yiX9AmeT3OB",
        "outputId": "108a28eb-ab84-4ed0-f3e7-3f94b093be03"
      },
      "source": [
        "opt"
      ],
      "execution_count": null,
      "outputs": [
        {
          "output_type": "execute_result",
          "data": {
            "text/plain": [
              "Adam (\n",
              "Parameter Group 0\n",
              "    amsgrad: False\n",
              "    betas: (0.9, 0.999)\n",
              "    eps: 1e-08\n",
              "    lr: 0.01\n",
              "    weight_decay: 1\n",
              ")"
            ]
          },
          "metadata": {
            "tags": []
          },
          "execution_count": 85
        }
      ]
    },
    {
      "cell_type": "code",
      "metadata": {
        "id": "vw032mC3Unut"
      },
      "source": [
        "def evaluation(dataloader):\n",
        "  total,correct = 0,0\n",
        "  for data in dataloader:\n",
        "    inputs, labels = data\n",
        "    inputs, labels = inputs.to(device), labels.to(device)\n",
        "    outputs = net(inputs)\n",
        "    _, pred = torch.max(outputs.data, 1)\n",
        "    total += labels.size(0)\n",
        "    correct += (pred == labels).sum().item()\n",
        "  return 100 * correct / total"
      ],
      "execution_count": null,
      "outputs": []
    },
    {
      "cell_type": "code",
      "metadata": {
        "colab": {
          "background_save": true,
          "base_uri": "https://localhost:8080/"
        },
        "id": "uQSSc09UUKor",
        "outputId": "70ede235-c4cf-465d-b140-d0363a06cdad"
      },
      "source": [
        "%%time\n",
        "loss_arr = []\n",
        "loss_epoch_arr =[]\n",
        "max_epochs = 20\n",
        "\n",
        "for epoch in range(max_epochs):\n",
        "  for i,data in enumerate(trainloader,0):\n",
        "    inputs,labels= data\n",
        "    inputs, labels = inputs.to(device), labels.to(device)\n",
        "    opt.zero_grad()\n",
        "    outputs = net(inputs)\n",
        "    loss = loss_func(outputs,labels)\n",
        "    loss.backward()\n",
        "    opt.step()\n",
        "    loss_arr.append(loss.item())\n",
        "  loss_epoch_arr.append(loss.item())\n",
        "\n",
        "  print('Epoch: %d/%d, Test Accuracy: %0.2f,Train Accuracy: %0.2f' %(epoch,max_epochs,evaluation(testloader),evaluation(trainloader)))\n",
        "\n",
        "plt.plot(loss_epoch_arr)\n",
        "plt.show()"
      ],
      "execution_count": null,
      "outputs": [
        {
          "output_type": "stream",
          "text": [
            "Epoch: 0/20, Test Accuracy: 10.00,Train Accuracy: 10.00\n",
            "Epoch: 1/20, Test Accuracy: 10.00,Train Accuracy: 10.00\n",
            "Epoch: 2/20, Test Accuracy: 10.00,Train Accuracy: 10.00\n",
            "Epoch: 3/20, Test Accuracy: 10.00,Train Accuracy: 10.00\n",
            "Epoch: 4/20, Test Accuracy: 10.00,Train Accuracy: 10.00\n",
            "Epoch: 5/20, Test Accuracy: 10.00,Train Accuracy: 10.00\n",
            "Epoch: 6/20, Test Accuracy: 10.00,Train Accuracy: 10.00\n",
            "Epoch: 7/20, Test Accuracy: 10.00,Train Accuracy: 10.00\n",
            "Epoch: 8/20, Test Accuracy: 10.00,Train Accuracy: 10.00\n",
            "Epoch: 9/20, Test Accuracy: 10.00,Train Accuracy: 10.00\n",
            "Epoch: 10/20, Test Accuracy: 10.00,Train Accuracy: 10.00\n",
            "Epoch: 11/20, Test Accuracy: 10.00,Train Accuracy: 10.00\n",
            "Epoch: 12/20, Test Accuracy: 10.00,Train Accuracy: 10.00\n",
            "Epoch: 13/20, Test Accuracy: 10.00,Train Accuracy: 10.00\n",
            "Epoch: 14/20, Test Accuracy: 10.00,Train Accuracy: 10.00\n",
            "Epoch: 15/20, Test Accuracy: 10.00,Train Accuracy: 10.00\n",
            "Epoch: 16/20, Test Accuracy: 10.00,Train Accuracy: 10.00\n",
            "Epoch: 17/20, Test Accuracy: 10.00,Train Accuracy: 10.00\n",
            "Epoch: 18/20, Test Accuracy: 10.00,Train Accuracy: 10.00\n",
            "Epoch: 19/20, Test Accuracy: 10.00,Train Accuracy: 10.00\n"
          ],
          "name": "stdout"
        },
        {
          "output_type": "display_data",
          "data": {
            "image/png": "[encoded data removed]",
            "text/plain": [
              "<Figure size 432x288 with 1 Axes>"
            ]
          },
          "metadata": {
            "tags": []
          }
        },
        {
          "output_type": "stream",
          "text": [
            "CPU times: user 3min 48s, sys: 1.6 s, total: 3min 50s\n",
            "Wall time: 3min 50s\n"
          ],
          "name": "stdout"
        }
      ]
    }
  ]
}